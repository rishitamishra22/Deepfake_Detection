{
  "nbformat": 4,
  "nbformat_minor": 0,
  "metadata": {
    "colab": {
      "name": "DeepFake Model",
      "provenance": [],
      "collapsed_sections": [],
      "include_colab_link": true
    },
    "kernelspec": {
      "name": "python3",
      "display_name": "Python 3"
    },
    "widgets": {
      "application/vnd.jupyter.widget-state+json": {
        "f4b9d24010c04df28a5c6ef110430e07": {
          "model_module": "@jupyter-widgets/controls",
          "model_name": "HBoxModel",
          "state": {
            "_view_name": "HBoxView",
            "_dom_classes": [],
            "_model_name": "HBoxModel",
            "_view_module": "@jupyter-widgets/controls",
            "_model_module_version": "1.5.0",
            "_view_count": null,
            "_view_module_version": "1.5.0",
            "box_style": "",
            "layout": "IPY_MODEL_b671a786cb1949b0acf82d264d2ee8fe",
            "_model_module": "@jupyter-widgets/controls",
            "children": [
              "IPY_MODEL_445a7d0ca40d4221947af4204cacfbe3",
              "IPY_MODEL_51cdadb5c73d4797ac4966144b621758"
            ]
          }
        },
        "b671a786cb1949b0acf82d264d2ee8fe": {
          "model_module": "@jupyter-widgets/base",
          "model_name": "LayoutModel",
          "state": {
            "_view_name": "LayoutView",
            "grid_template_rows": null,
            "right": null,
            "justify_content": null,
            "_view_module": "@jupyter-widgets/base",
            "overflow": null,
            "_model_module_version": "1.2.0",
            "_view_count": null,
            "flex_flow": null,
            "width": null,
            "min_width": null,
            "border": null,
            "align_items": null,
            "bottom": null,
            "_model_module": "@jupyter-widgets/base",
            "top": null,
            "grid_column": null,
            "overflow_y": null,
            "overflow_x": null,
            "grid_auto_flow": null,
            "grid_area": null,
            "grid_template_columns": null,
            "flex": null,
            "_model_name": "LayoutModel",
            "justify_items": null,
            "grid_row": null,
            "max_height": null,
            "align_content": null,
            "visibility": null,
            "align_self": null,
            "height": null,
            "min_height": null,
            "padding": null,
            "grid_auto_rows": null,
            "grid_gap": null,
            "max_width": null,
            "order": null,
            "_view_module_version": "1.2.0",
            "grid_template_areas": null,
            "object_position": null,
            "object_fit": null,
            "grid_auto_columns": null,
            "margin": null,
            "display": null,
            "left": null
          }
        },
        "445a7d0ca40d4221947af4204cacfbe3": {
          "model_module": "@jupyter-widgets/controls",
          "model_name": "FloatProgressModel",
          "state": {
            "_view_name": "ProgressView",
            "style": "IPY_MODEL_7159ef1304574fe59095558924690f61",
            "_dom_classes": [],
            "description": "100%",
            "_model_name": "FloatProgressModel",
            "bar_style": "success",
            "max": 21,
            "_view_module": "@jupyter-widgets/controls",
            "_model_module_version": "1.5.0",
            "value": 21,
            "_view_count": null,
            "_view_module_version": "1.5.0",
            "orientation": "horizontal",
            "min": 0,
            "description_tooltip": null,
            "_model_module": "@jupyter-widgets/controls",
            "layout": "IPY_MODEL_65cc4a3340ba49ceb2a9a6d21a9cbc6c"
          }
        },
        "51cdadb5c73d4797ac4966144b621758": {
          "model_module": "@jupyter-widgets/controls",
          "model_name": "HTMLModel",
          "state": {
            "_view_name": "HTMLView",
            "style": "IPY_MODEL_df98e0b6a7cf4244a6ece57b773cfa4f",
            "_dom_classes": [],
            "description": "",
            "_model_name": "HTMLModel",
            "placeholder": "​",
            "_view_module": "@jupyter-widgets/controls",
            "_model_module_version": "1.5.0",
            "value": " 21/21 [00:00&lt;00:00, 126.85it/s]",
            "_view_count": null,
            "_view_module_version": "1.5.0",
            "description_tooltip": null,
            "_model_module": "@jupyter-widgets/controls",
            "layout": "IPY_MODEL_0203dba32ecf48d6a0672382fd410127"
          }
        },
        "7159ef1304574fe59095558924690f61": {
          "model_module": "@jupyter-widgets/controls",
          "model_name": "ProgressStyleModel",
          "state": {
            "_view_name": "StyleView",
            "_model_name": "ProgressStyleModel",
            "description_width": "initial",
            "_view_module": "@jupyter-widgets/base",
            "_model_module_version": "1.5.0",
            "_view_count": null,
            "_view_module_version": "1.2.0",
            "bar_color": null,
            "_model_module": "@jupyter-widgets/controls"
          }
        },
        "65cc4a3340ba49ceb2a9a6d21a9cbc6c": {
          "model_module": "@jupyter-widgets/base",
          "model_name": "LayoutModel",
          "state": {
            "_view_name": "LayoutView",
            "grid_template_rows": null,
            "right": null,
            "justify_content": null,
            "_view_module": "@jupyter-widgets/base",
            "overflow": null,
            "_model_module_version": "1.2.0",
            "_view_count": null,
            "flex_flow": null,
            "width": null,
            "min_width": null,
            "border": null,
            "align_items": null,
            "bottom": null,
            "_model_module": "@jupyter-widgets/base",
            "top": null,
            "grid_column": null,
            "overflow_y": null,
            "overflow_x": null,
            "grid_auto_flow": null,
            "grid_area": null,
            "grid_template_columns": null,
            "flex": null,
            "_model_name": "LayoutModel",
            "justify_items": null,
            "grid_row": null,
            "max_height": null,
            "align_content": null,
            "visibility": null,
            "align_self": null,
            "height": null,
            "min_height": null,
            "padding": null,
            "grid_auto_rows": null,
            "grid_gap": null,
            "max_width": null,
            "order": null,
            "_view_module_version": "1.2.0",
            "grid_template_areas": null,
            "object_position": null,
            "object_fit": null,
            "grid_auto_columns": null,
            "margin": null,
            "display": null,
            "left": null
          }
        },
        "df98e0b6a7cf4244a6ece57b773cfa4f": {
          "model_module": "@jupyter-widgets/controls",
          "model_name": "DescriptionStyleModel",
          "state": {
            "_view_name": "StyleView",
            "_model_name": "DescriptionStyleModel",
            "description_width": "",
            "_view_module": "@jupyter-widgets/base",
            "_model_module_version": "1.5.0",
            "_view_count": null,
            "_view_module_version": "1.2.0",
            "_model_module": "@jupyter-widgets/controls"
          }
        },
        "0203dba32ecf48d6a0672382fd410127": {
          "model_module": "@jupyter-widgets/base",
          "model_name": "LayoutModel",
          "state": {
            "_view_name": "LayoutView",
            "grid_template_rows": null,
            "right": null,
            "justify_content": null,
            "_view_module": "@jupyter-widgets/base",
            "overflow": null,
            "_model_module_version": "1.2.0",
            "_view_count": null,
            "flex_flow": null,
            "width": null,
            "min_width": null,
            "border": null,
            "align_items": null,
            "bottom": null,
            "_model_module": "@jupyter-widgets/base",
            "top": null,
            "grid_column": null,
            "overflow_y": null,
            "overflow_x": null,
            "grid_auto_flow": null,
            "grid_area": null,
            "grid_template_columns": null,
            "flex": null,
            "_model_name": "LayoutModel",
            "justify_items": null,
            "grid_row": null,
            "max_height": null,
            "align_content": null,
            "visibility": null,
            "align_self": null,
            "height": null,
            "min_height": null,
            "padding": null,
            "grid_auto_rows": null,
            "grid_gap": null,
            "max_width": null,
            "order": null,
            "_view_module_version": "1.2.0",
            "grid_template_areas": null,
            "object_position": null,
            "object_fit": null,
            "grid_auto_columns": null,
            "margin": null,
            "display": null,
            "left": null
          }
        },
        "ce8f6fec5ab34e83ae50fe64448fe294": {
          "model_module": "@jupyter-widgets/controls",
          "model_name": "HBoxModel",
          "state": {
            "_view_name": "HBoxView",
            "_dom_classes": [],
            "_model_name": "HBoxModel",
            "_view_module": "@jupyter-widgets/controls",
            "_model_module_version": "1.5.0",
            "_view_count": null,
            "_view_module_version": "1.5.0",
            "box_style": "",
            "layout": "IPY_MODEL_17473bc55c8b4a6e8590249cd4816b90",
            "_model_module": "@jupyter-widgets/controls",
            "children": [
              "IPY_MODEL_693877d74935405cb960cbe5fe2e26df",
              "IPY_MODEL_cb09232b92f446fca885e72ddfee2e75"
            ]
          }
        },
        "17473bc55c8b4a6e8590249cd4816b90": {
          "model_module": "@jupyter-widgets/base",
          "model_name": "LayoutModel",
          "state": {
            "_view_name": "LayoutView",
            "grid_template_rows": null,
            "right": null,
            "justify_content": null,
            "_view_module": "@jupyter-widgets/base",
            "overflow": null,
            "_model_module_version": "1.2.0",
            "_view_count": null,
            "flex_flow": null,
            "width": null,
            "min_width": null,
            "border": null,
            "align_items": null,
            "bottom": null,
            "_model_module": "@jupyter-widgets/base",
            "top": null,
            "grid_column": null,
            "overflow_y": null,
            "overflow_x": null,
            "grid_auto_flow": null,
            "grid_area": null,
            "grid_template_columns": null,
            "flex": null,
            "_model_name": "LayoutModel",
            "justify_items": null,
            "grid_row": null,
            "max_height": null,
            "align_content": null,
            "visibility": null,
            "align_self": null,
            "height": null,
            "min_height": null,
            "padding": null,
            "grid_auto_rows": null,
            "grid_gap": null,
            "max_width": null,
            "order": null,
            "_view_module_version": "1.2.0",
            "grid_template_areas": null,
            "object_position": null,
            "object_fit": null,
            "grid_auto_columns": null,
            "margin": null,
            "display": null,
            "left": null
          }
        },
        "693877d74935405cb960cbe5fe2e26df": {
          "model_module": "@jupyter-widgets/controls",
          "model_name": "FloatProgressModel",
          "state": {
            "_view_name": "ProgressView",
            "style": "IPY_MODEL_a40a2dc6a568496091d60be774dfe4ae",
            "_dom_classes": [],
            "description": "100%",
            "_model_name": "FloatProgressModel",
            "bar_style": "success",
            "max": 21,
            "_view_module": "@jupyter-widgets/controls",
            "_model_module_version": "1.5.0",
            "value": 21,
            "_view_count": null,
            "_view_module_version": "1.5.0",
            "orientation": "horizontal",
            "min": 0,
            "description_tooltip": null,
            "_model_module": "@jupyter-widgets/controls",
            "layout": "IPY_MODEL_be742761862c42988e8aa87b11226568"
          }
        },
        "cb09232b92f446fca885e72ddfee2e75": {
          "model_module": "@jupyter-widgets/controls",
          "model_name": "HTMLModel",
          "state": {
            "_view_name": "HTMLView",
            "style": "IPY_MODEL_b2050068c26345818f531f655b2dd2b0",
            "_dom_classes": [],
            "description": "",
            "_model_name": "HTMLModel",
            "placeholder": "​",
            "_view_module": "@jupyter-widgets/controls",
            "_model_module_version": "1.5.0",
            "value": " 21/21 [00:00&lt;00:00, 77.82it/s]",
            "_view_count": null,
            "_view_module_version": "1.5.0",
            "description_tooltip": null,
            "_model_module": "@jupyter-widgets/controls",
            "layout": "IPY_MODEL_983e93e118414fc1a6c0a308e25f2399"
          }
        },
        "a40a2dc6a568496091d60be774dfe4ae": {
          "model_module": "@jupyter-widgets/controls",
          "model_name": "ProgressStyleModel",
          "state": {
            "_view_name": "StyleView",
            "_model_name": "ProgressStyleModel",
            "description_width": "initial",
            "_view_module": "@jupyter-widgets/base",
            "_model_module_version": "1.5.0",
            "_view_count": null,
            "_view_module_version": "1.2.0",
            "bar_color": null,
            "_model_module": "@jupyter-widgets/controls"
          }
        },
        "be742761862c42988e8aa87b11226568": {
          "model_module": "@jupyter-widgets/base",
          "model_name": "LayoutModel",
          "state": {
            "_view_name": "LayoutView",
            "grid_template_rows": null,
            "right": null,
            "justify_content": null,
            "_view_module": "@jupyter-widgets/base",
            "overflow": null,
            "_model_module_version": "1.2.0",
            "_view_count": null,
            "flex_flow": null,
            "width": null,
            "min_width": null,
            "border": null,
            "align_items": null,
            "bottom": null,
            "_model_module": "@jupyter-widgets/base",
            "top": null,
            "grid_column": null,
            "overflow_y": null,
            "overflow_x": null,
            "grid_auto_flow": null,
            "grid_area": null,
            "grid_template_columns": null,
            "flex": null,
            "_model_name": "LayoutModel",
            "justify_items": null,
            "grid_row": null,
            "max_height": null,
            "align_content": null,
            "visibility": null,
            "align_self": null,
            "height": null,
            "min_height": null,
            "padding": null,
            "grid_auto_rows": null,
            "grid_gap": null,
            "max_width": null,
            "order": null,
            "_view_module_version": "1.2.0",
            "grid_template_areas": null,
            "object_position": null,
            "object_fit": null,
            "grid_auto_columns": null,
            "margin": null,
            "display": null,
            "left": null
          }
        },
        "b2050068c26345818f531f655b2dd2b0": {
          "model_module": "@jupyter-widgets/controls",
          "model_name": "DescriptionStyleModel",
          "state": {
            "_view_name": "StyleView",
            "_model_name": "DescriptionStyleModel",
            "description_width": "",
            "_view_module": "@jupyter-widgets/base",
            "_model_module_version": "1.5.0",
            "_view_count": null,
            "_view_module_version": "1.2.0",
            "_model_module": "@jupyter-widgets/controls"
          }
        },
        "983e93e118414fc1a6c0a308e25f2399": {
          "model_module": "@jupyter-widgets/base",
          "model_name": "LayoutModel",
          "state": {
            "_view_name": "LayoutView",
            "grid_template_rows": null,
            "right": null,
            "justify_content": null,
            "_view_module": "@jupyter-widgets/base",
            "overflow": null,
            "_model_module_version": "1.2.0",
            "_view_count": null,
            "flex_flow": null,
            "width": null,
            "min_width": null,
            "border": null,
            "align_items": null,
            "bottom": null,
            "_model_module": "@jupyter-widgets/base",
            "top": null,
            "grid_column": null,
            "overflow_y": null,
            "overflow_x": null,
            "grid_auto_flow": null,
            "grid_area": null,
            "grid_template_columns": null,
            "flex": null,
            "_model_name": "LayoutModel",
            "justify_items": null,
            "grid_row": null,
            "max_height": null,
            "align_content": null,
            "visibility": null,
            "align_self": null,
            "height": null,
            "min_height": null,
            "padding": null,
            "grid_auto_rows": null,
            "grid_gap": null,
            "max_width": null,
            "order": null,
            "_view_module_version": "1.2.0",
            "grid_template_areas": null,
            "object_position": null,
            "object_fit": null,
            "grid_auto_columns": null,
            "margin": null,
            "display": null,
            "left": null
          }
        }
      }
    }
  },
  "cells": [
    {
      "cell_type": "markdown",
      "metadata": {
        "id": "view-in-github",
        "colab_type": "text"
      },
      "source": [
        "<a href=\"https://colab.research.google.com/github/Atharva-Peshkar/DeepFake-Detector/blob/main/DeepFake_Model.ipynb\" target=\"_parent\"><img src=\"https://colab.research.google.com/assets/colab-badge.svg\" alt=\"Open In Colab\"/></a>"
      ]
    },
    {
      "cell_type": "code",
      "metadata": {
        "id": "zdohSxpO-LyS",
        "colab": {
          "base_uri": "https://localhost:8080/"
        },
        "outputId": "6c81f711-277e-4ce7-951a-6b93261b7575"
      },
      "source": [
        "from google.colab import drive\n",
        "drive.mount('/gdrive')\n",
        "%cd /gdrive"
      ],
      "execution_count": null,
      "outputs": [
        {
          "output_type": "stream",
          "text": [
            "Mounted at /gdrive\n",
            "/gdrive\n"
          ],
          "name": "stdout"
        }
      ]
    },
    {
      "cell_type": "code",
      "metadata": {
        "id": "72tAVmdI-NRs",
        "colab": {
          "base_uri": "https://localhost:8080/"
        },
        "outputId": "3b4a96d3-4e92-4965-8f4d-fe4dbc576d4d"
      },
      "source": [
        "from tensorflow.keras.applications.inception_v3 import InceptionV3\n",
        "from keras.layers import TimeDistributed, Dense, LSTM, Dropout, Input, Flatten, Reshape, GlobalAveragePooling2D\n",
        "from keras.models import Model, Sequential\n",
        "from keras.models import Sequential\n",
        "from keras.layers import Dense\n",
        "from keras.layers import LSTM\n",
        "from keras.layers import Dropout\n",
        "from keras.layers import Input\n",
        "from keras.layers import Flatten\n",
        "from keras.layers import Reshape\n",
        "from keras.layers import GlobalAveragePooling2D\n",
        "\n",
        "\n",
        "base_model = InceptionV3(input_shape = (299,299, 3),include_top=False, weights='imagenet')\n",
        "\n",
        "for layer_model in base_model.layers:\n",
        "  layer_model.trainable = False\n",
        "\n",
        "\n",
        "crnn = Sequential([\n",
        "                   TimeDistributed(base_model,input_shape=(42,229,229,3)),   #Input to InceptionV3 wrapped in TimeDistributed Layer = (Timesteps,Height,Width,Chanels)\n",
        "                   TimeDistributed(Flatten()),     #Output from InceptionV3 (Batch_Size,8,8,2048) passed through this to remove the spacial data and only keep the temporal data\n",
        "                   #Flatten(),\n",
        "                   LSTM(2048,dropout=0.5,return_sequences=False),  #Input Shape = (Timesteps,Features)\n",
        "                   Dense(512),\n",
        "                   Dropout(0.5),\n",
        "                   Dense(1,activation=\"sigmoid\")])"
      ],
      "execution_count": null,
      "outputs": [
        {
          "output_type": "stream",
          "text": [
            "Downloading data from https://storage.googleapis.com/tensorflow/keras-applications/inception_v3/inception_v3_weights_tf_dim_ordering_tf_kernels_notop.h5\n",
            "87916544/87910968 [==============================] - 1s 0us/step\n",
            "Model: \"sequential\"\n",
            "_________________________________________________________________\n",
            "Layer (type)                 Output Shape              Param #   \n",
            "=================================================================\n",
            "time_distributed (TimeDistri (None, 42, 8, 8, 2048)    21802784  \n",
            "_________________________________________________________________\n",
            "time_distributed_1 (TimeDist (None, 42, 131072)        0         \n",
            "_________________________________________________________________\n",
            "lstm (LSTM)                  (None, 256)               134480896 \n",
            "_________________________________________________________________\n",
            "dense (Dense)                (None, 64)                16448     \n",
            "_________________________________________________________________\n",
            "dropout (Dropout)            (None, 64)                0         \n",
            "_________________________________________________________________\n",
            "dense_1 (Dense)              (None, 3)                 195       \n",
            "=================================================================\n",
            "Total params: 156,300,323\n",
            "Trainable params: 134,497,539\n",
            "Non-trainable params: 21,802,784\n",
            "_________________________________________________________________\n"
          ],
          "name": "stdout"
        }
      ]
    },
    {
      "cell_type": "code",
      "metadata": {
        "id": "17-SPV7rXqEI"
      },
      "source": [
        "crnn.compile('adam', loss='categorical_crossentropy')"
      ],
      "execution_count": null,
      "outputs": []
    },
    {
      "cell_type": "code",
      "metadata": {
        "id": "IHVn4JtEG9CZ"
      },
      "source": [
        "from keras.optimizers import Adam\r\n",
        "\r\n",
        "crnn.compile(optimizer = Adam(lr=0.00001, decay=0.000001),\r\n",
        "              loss = 'categorical_crossentropy', \r\n",
        "              metrics = ['accuracy'],run_eagerly=False)\r\n",
        "\r\n",
        "#print(base_model.summary())"
      ],
      "execution_count": null,
      "outputs": []
    },
    {
      "cell_type": "code",
      "metadata": {
        "colab": {
          "base_uri": "https://localhost:8080/",
          "height": 149,
          "referenced_widgets": [
            "f4b9d24010c04df28a5c6ef110430e07",
            "b671a786cb1949b0acf82d264d2ee8fe",
            "445a7d0ca40d4221947af4204cacfbe3",
            "51cdadb5c73d4797ac4966144b621758",
            "7159ef1304574fe59095558924690f61",
            "65cc4a3340ba49ceb2a9a6d21a9cbc6c",
            "df98e0b6a7cf4244a6ece57b773cfa4f",
            "0203dba32ecf48d6a0672382fd410127",
            "ce8f6fec5ab34e83ae50fe64448fe294",
            "17473bc55c8b4a6e8590249cd4816b90",
            "693877d74935405cb960cbe5fe2e26df",
            "cb09232b92f446fca885e72ddfee2e75",
            "a40a2dc6a568496091d60be774dfe4ae",
            "be742761862c42988e8aa87b11226568",
            "b2050068c26345818f531f655b2dd2b0",
            "983e93e118414fc1a6c0a308e25f2399"
          ]
        },
        "id": "k_evmK0rsGzF",
        "outputId": "466687dc-f0a3-4c95-98e5-6f1c0f077968"
      },
      "source": [
        "from tensorflow.keras.preprocessing.image import ImageDataGenerator\r\n",
        "import numpy as np\r\n",
        "import os\r\n",
        "from tqdm.notebook import tqdm\r\n",
        "import cv2\r\n",
        "from keras.preprocessing import image\r\n",
        "import matplotlib.pyplot as plt\r\n",
        "\r\n",
        "#Define paths to the directories holding the training images.\r\n",
        "train_data_dir_pristine = '/gdrive/My Drive/Colab Notebooks/DeepFake/Test_Model_Training_Data/Pristine/'\r\n",
        "train_data_dir_fake = '/gdrive/My Drive/Colab Notebooks/DeepFake/Test_Model_Training_Data/Deepfake/'\r\n",
        "\r\n",
        "# Get a list of all the image names in the directories. Eg: Frame1.jpg, Frame2.jpg etc.\r\n",
        "pristine_data = os.listdir(train_data_dir_pristine)[0:21]\r\n",
        "deepfake_data = os.listdir(train_data_dir_fake)[0:21]\r\n",
        "\r\n",
        "training_data_X = []\r\n",
        "for every_img in tqdm(pristine_data):\r\n",
        "  '''img_pris_load = image.load_img(train_data_dir_pristine + every_img, target_size=(299,299,3)) #Load image from dir\r\n",
        "  img_to_arr_pris = image.img_to_array(img_pris_load) #Convert the image to np array.\r\n",
        "  img_to_arr_pris = np.expand_dims(img_to_arr_pris, axis=0) #Add a dimension to the array -  the image index. (Image index, height, width, channels)\r\n",
        "  training_data_X = np.vstack([img_to_arr_pris]) #Stack the image arrays vertically.'''\r\n",
        "  image = cv2.imread (train_data_dir_pristine+every_img)\r\n",
        "  training_data_X.append (image)\r\n",
        "\r\n",
        "\r\n",
        "  #rg = plt.imshow(image.array_to_img(training_data_X_Pristine[0]))\r\n",
        "\r\n",
        "training_data_Y_Pristine = np.full((len(pristine_data),1),'Pristine')   # Create an array with labels for each image in the X array.\r\n",
        "\r\n",
        "# Everything same as above, except this is for Deepfakes.\r\n",
        "for every_img in tqdm(deepfake_data):\r\n",
        "  '''img_fake_load = image.load_img(train_data_dir_fake + every_img, target_size=(299,299,3))\r\n",
        "  img_to_arr_fake = image.img_to_array(img_fake_load)\r\n",
        "  img_to_arr_fake = np.expand_dims(img_to_arr_fake, axis=0)\r\n",
        "  training_data_X = np.vstack([img_to_arr_fake])'''\r\n",
        "  image = cv2.imread (train_data_dir_fake+every_img)\r\n",
        "  training_data_X.append (image)\r\n",
        "  #rg = plt.imshow(image.array_to_img(training_data_X_DeepFake[0]))\r\n",
        "\r\n",
        "training_data_Y_DeepFake = np.full((len(deepfake_data),1),'Deepfake')\r\n",
        "\r\n",
        "# Combine the Pristine and Deepfake arrays together by stacking both X and Y arrays.\r\n",
        "#training_data_X = np.concatenate((training_data_X_Pristine,training_data_X_DeepFake))\r\n",
        "training_data_Y = np.vstack([training_data_Y_Pristine,training_data_Y_DeepFake])\r\n",
        "\r\n",
        "#print(training_data_X.shape)\r\n",
        "print('X_data shape:', np.array(training_data_X).shape)\r\n",
        "print(training_data_Y.shape)\r\n",
        "# Add our data-augmentation parameters to ImageDataGenerator\r\n",
        "from sklearn.preprocessing import LabelBinarizer\r\n",
        "lb = LabelBinarizer()\r\n",
        "training_data_Y = lb.fit_transform(training_data_Y)"
      ],
      "execution_count": null,
      "outputs": [
        {
          "output_type": "display_data",
          "data": {
            "application/vnd.jupyter.widget-view+json": {
              "model_id": "f4b9d24010c04df28a5c6ef110430e07",
              "version_minor": 0,
              "version_major": 2
            },
            "text/plain": [
              "HBox(children=(FloatProgress(value=0.0, max=21.0), HTML(value='')))"
            ]
          },
          "metadata": {
            "tags": []
          }
        },
        {
          "output_type": "stream",
          "text": [
            "\n"
          ],
          "name": "stdout"
        },
        {
          "output_type": "display_data",
          "data": {
            "application/vnd.jupyter.widget-view+json": {
              "model_id": "ce8f6fec5ab34e83ae50fe64448fe294",
              "version_minor": 0,
              "version_major": 2
            },
            "text/plain": [
              "HBox(children=(FloatProgress(value=0.0, max=21.0), HTML(value='')))"
            ]
          },
          "metadata": {
            "tags": []
          }
        },
        {
          "output_type": "stream",
          "text": [
            "\n",
            "X_data shape: (42, 299, 299, 3)\n",
            "(42, 1)\n"
          ],
          "name": "stdout"
        }
      ]
    },
    {
      "cell_type": "code",
      "metadata": {
        "id": "aWusT-8HvS2A"
      },
      "source": [
        "history = model.fit(\r\n",
        "            np.array(training_data_X),\r\n",
        "            np.array(training_data_Y),\r\n",
        "            steps_per_epoch = 10,\r\n",
        "            epochs = 100,\r\n",
        "            verbose = 1)"
      ],
      "execution_count": null,
      "outputs": []
    },
    {
      "cell_type": "code",
      "metadata": {
        "id": "JFluqN-lTN-B"
      },
      "source": [
        ""
      ],
      "execution_count": null,
      "outputs": []
    }
  ]
}