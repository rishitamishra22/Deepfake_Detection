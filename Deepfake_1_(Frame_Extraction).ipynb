{
  "nbformat": 4,
  "nbformat_minor": 0,
  "metadata": {
    "colab": {
      "name": "Deepfake - 1 (Frame Extraction)",
      "provenance": [],
      "collapsed_sections": [],
      "include_colab_link": true
    },
    "kernelspec": {
      "name": "python3",
      "display_name": "Python 3"
    }
  },
  "cells": [
    {
      "cell_type": "markdown",
      "metadata": {
        "id": "view-in-github",
        "colab_type": "text"
      },
      "source": [
        "<a href=\"https://colab.research.google.com/github/Atharva-Peshkar/DeepFake-Detector/blob/main/Deepfake_1_(Frame_Extraction).ipynb\" target=\"_parent\"><img src=\"https://colab.research.google.com/assets/colab-badge.svg\" alt=\"Open In Colab\"/></a>"
      ]
    },
    {
      "cell_type": "markdown",
      "metadata": {
        "id": "dO9nGx9yDbLG"
      },
      "source": [
        "###Installing Dependecies, configuring notebook and downloading dataset"
      ]
    },
    {
      "cell_type": "code",
      "metadata": {
        "id": "EGauv2qQ5xht",
        "colab": {
          "base_uri": "https://localhost:8080/",
          "height": 34
        },
        "outputId": "c97dfe20-dabe-4c22-f67d-28308b9825c3"
      },
      "source": [
        "'''!pip uninstall -y kaggle\n",
        "!pip install --upgrade pip\n",
        "!pip install kaggle==1.5.6\n",
        "!kaggle -v\n",
        "!pip install kaggle --upgrade'''"
      ],
      "execution_count": null,
      "outputs": [
        {
          "output_type": "execute_result",
          "data": {
            "text/plain": [
              "'!pip uninstall -y kaggle\\n!pip install --upgrade pip\\n!pip install kaggle==1.5.6\\n!kaggle -v\\n!pip install kaggle --upgrade'"
            ]
          },
          "metadata": {
            "tags": []
          },
          "execution_count": 115
        }
      ]
    },
    {
      "cell_type": "code",
      "metadata": {
        "id": "2BVFrLyz6n_x",
        "colab": {
          "base_uri": "https://localhost:8080/"
        },
        "outputId": "dac5e2f1-100a-4b70-f516-6a4fee6a93c7"
      },
      "source": [
        "from google.colab import drive\n",
        "drive.mount('/gdrive')\n",
        "%cd /gdrive/My Drive/Colab Notebooks/DeepFake/"
      ],
      "execution_count": null,
      "outputs": [
        {
          "output_type": "stream",
          "text": [
            "Mounted at /gdrive\n",
            "/gdrive/My Drive/Colab Notebooks/DeepFake\n"
          ],
          "name": "stdout"
        }
      ]
    },
    {
      "cell_type": "code",
      "metadata": {
        "id": "mJZdIuOX4O2I",
        "colab": {
          "base_uri": "https://localhost:8080/",
          "height": 54
        },
        "outputId": "3ddef592-06de-40c9-f1ea-a8d6a63e9247"
      },
      "source": [
        "'''import os\n",
        "os.environ['KAGGLE_USERNAME'] = \"peshkaratharva\" \n",
        "os.environ['KAGGLE_KEY'] = \"993b3b76891f8707cec9d09b2463d78d\"\n",
        "!ls\n",
        "!kaggle competitions download -c deepfake-detection-challenge'''"
      ],
      "execution_count": null,
      "outputs": [
        {
          "output_type": "execute_result",
          "data": {
            "text/plain": [
              "'import os\\nos.environ[\\'KAGGLE_USERNAME\\'] = \"peshkaratharva\" \\nos.environ[\\'KAGGLE_KEY\\'] = \"993b3b76891f8707cec9d09b2463d78d\"\\n!ls\\n!kaggle competitions download -c deepfake-detection-challenge'"
            ]
          },
          "metadata": {
            "tags": []
          },
          "execution_count": 2
        }
      ]
    },
    {
      "cell_type": "code",
      "metadata": {
        "id": "OUckkCgC7y5N"
      },
      "source": [
        "#!ls"
      ],
      "execution_count": null,
      "outputs": []
    },
    {
      "cell_type": "code",
      "metadata": {
        "id": "QD2Qvr3t4lJC"
      },
      "source": [
        "#!unzip '/gdrive/My Drive/Colab Notebooks/DeepFake/deepfake-detection-challenge.zip'"
      ],
      "execution_count": null,
      "outputs": []
    },
    {
      "cell_type": "code",
      "metadata": {
        "id": "EE6M2SIDNkRi"
      },
      "source": [
        "#!pip install face_recognition"
      ],
      "execution_count": null,
      "outputs": []
    },
    {
      "cell_type": "markdown",
      "metadata": {
        "id": "TuieoYHPDh9k"
      },
      "source": [
        "###Data Analysis"
      ]
    },
    {
      "cell_type": "code",
      "metadata": {
        "id": "E-QnaPQq7fqp"
      },
      "source": [
        "import os\n",
        "import shutil\n",
        "import numpy as np\n",
        "import pandas as pd"
      ],
      "execution_count": null,
      "outputs": []
    },
    {
      "cell_type": "code",
      "metadata": {
        "id": "HemSqEjyHWYG"
      },
      "source": [
        "#this is the base working directory\n",
        "\n",
        "main_dir = '/gdrive/My Drive/Colab Notebooks/DeepFake/'"
      ],
      "execution_count": null,
      "outputs": []
    },
    {
      "cell_type": "code",
      "metadata": {
        "id": "VAcwkoAOL9eU"
      },
      "source": [
        "metadata = pd.read_json(os.path.join(main_dir,'train_sample_videos/metadata.json')).T\n",
        "print(pd.Series(metadata['original']).value_counts())"
      ],
      "execution_count": null,
      "outputs": []
    },
    {
      "cell_type": "code",
      "metadata": {
        "id": "TLmF0nsPvWD_",
        "colab": {
          "base_uri": "https://localhost:8080/",
          "height": 119
        },
        "outputId": "1240fa85-99e8-42cb-9903-8402aea054d4"
      },
      "source": [
        "print(metadata.label.head())"
      ],
      "execution_count": null,
      "outputs": [
        {
          "output_type": "stream",
          "text": [
            "aagfhgtpmv.mp4    FAKE\n",
            "aapnvogymq.mp4    FAKE\n",
            "abarnvbtwb.mp4    REAL\n",
            "abofeumbvv.mp4    FAKE\n",
            "abqwwspghj.mp4    FAKE\n",
            "Name: label, dtype: object\n"
          ],
          "name": "stdout"
        }
      ]
    },
    {
      "cell_type": "code",
      "metadata": {
        "id": "tEWFZYwsRkq2"
      },
      "source": [
        "train_list = os.listdir(os.path.join(main_dir,'train_sample_videos/'))\n",
        "meta = np.array(list(metadata.index))\n",
        "storage = np.array([file for file in train_list if  file.endswith('mp4')])\n",
        "print(f\"Metadata: {meta.shape[0]}, Folder: {storage.shape[0]}\")\n",
        "print(f\"Files in metadata and not in folder: {np.setdiff1d(meta,storage,assume_unique=False).shape[0]}\")\n",
        "print(f\"Files in folder and not in metadata: {np.setdiff1d(storage,meta,assume_unique=False).shape[0]}\")"
      ],
      "execution_count": null,
      "outputs": []
    },
    {
      "cell_type": "code",
      "metadata": {
        "id": "cixI2mvHUA-Q",
        "colab": {
          "base_uri": "https://localhost:8080/",
          "height": 363
        },
        "outputId": "6d2e6521-ee6a-4d09-e96d-973a843ece97"
      },
      "source": [
        "#Data Distribution Analysis\n",
        "import matplotlib.pyplot as plt\n",
        "print(metadata.label.unique())\n",
        "print(f\"Real: {(metadata.label=='REAL').sum()}\")\n",
        "print(f\"Fake: {(metadata.label=='FAKE').sum()}\")\n",
        "plt.bar(['Real','Fake'],[(metadata.label=='REAL').sum(),(metadata.label=='FAKE').sum()],color=['blue','red'])\n",
        "plt.title('Data Distribution')\n",
        "plt.xlabel('Data Label')\n",
        "plt.ylabel(\"Number of videos\")"
      ],
      "execution_count": null,
      "outputs": [
        {
          "output_type": "stream",
          "text": [
            "['FAKE' 'REAL']\n",
            "Real: 77\n",
            "Fake: 323\n"
          ],
          "name": "stdout"
        },
        {
          "output_type": "execute_result",
          "data": {
            "text/plain": [
              "Text(0, 0.5, 'Number of videos')"
            ]
          },
          "metadata": {
            "tags": []
          },
          "execution_count": 8
        },
        {
          "output_type": "display_data",
          "data": {
            "image/png": "[encoded data removed]",
            "text/plain": [
              "<Figure size 432x288 with 1 Axes>"
            ]
          },
          "metadata": {
            "tags": [],
            "needs_background": "light"
          }
        }
      ]
    },
    {
      "cell_type": "markdown",
      "metadata": {
        "id": "DXvNvyFuBuOO"
      },
      "source": [
        "###Moving files from training folder to real and fake folder respectively, after creating them"
      ]
    },
    {
      "cell_type": "code",
      "metadata": {
        "id": "dLPJt110BnsA"
      },
      "source": [
        "#Function to create new directories if they do not exist. Syntax: dir_creator(parent_dir_path , new_dir_name)\n",
        "\n",
        "def dir_creator(path_val,dir_name):\n",
        "  if(os.path.isdir(os.path.join(path_val,dir_name))):\n",
        "    print(f\"Folder named: {dir_name}, already exists, good to go!\\n\")\n",
        "  else:\n",
        "    print(f\"Folder named: {dir_name}, created for you, go ahead!\\n\")\n",
        "    os.mkdir(os.path.join(path_val,dir_name))"
      ],
      "execution_count": null,
      "outputs": []
    },
    {
      "cell_type": "code",
      "metadata": {
        "id": "WhvywfBs5M-h",
        "colab": {
          "base_uri": "https://localhost:8080/"
        },
        "outputId": "e159b619-e78b-4680-f236-ab7a7d5406f7"
      },
      "source": [
        "'''creating the directories and sub-directories for segregating videos\n",
        "Directory structure:\n",
        "\n",
        "+ DeepFake                      |       +DeepFake\n",
        "  + Real                        |         +Fake\n",
        "    +videos                     |           +videos\n",
        "      =>data-points             |             => data-points '''\n",
        "\n",
        "\n",
        "source = os.path.join(main_dir,'train_sample_videos/')\n",
        "dir_creator(main_dir,'Real')\n",
        "dir_creator(os.path.join(main_dir,'Real'),'videos')\n",
        "dir_creator(main_dir,'Fake')\n",
        "dir_creator(os.path.join(main_dir,'Fake'),'videos')"
      ],
      "execution_count": null,
      "outputs": [
        {
          "output_type": "stream",
          "text": [
            "Folder named: Real, already exists, good to go!\n",
            "\n",
            "Folder named: videos, already exists, good to go!\n",
            "\n",
            "Folder named: Fake, already exists, good to go!\n",
            "\n",
            "Folder named: videos, already exists, good to go!\n",
            "\n"
          ],
          "name": "stdout"
        }
      ]
    },
    {
      "cell_type": "code",
      "metadata": {
        "id": "gjXloZ2I5RvL"
      },
      "source": [
        "#Segregating all the REAL and FAKE label videos into different folders, from the main train_sample_videos directory\n",
        "for fn in metadata.index:\n",
        "  if(metadata.loc[fn]['label']=='REAL'):\n",
        "    shutil.move(os.path.join(source,fn),os.path.join(real_dest,fn),copy_function = shutil.copytree)\n",
        "  elif(metadata.loc[fn]['label']=='FAKE'):\n",
        "    shutil.move(os.path.join(source,fn),os.path.join(fake_dest,fn),copy_function = shutil.copytree)\n",
        "  else:\n",
        "    print(\"File not found!\")\n",
        "    continue"
      ],
      "execution_count": null,
      "outputs": []
    },
    {
      "cell_type": "code",
      "metadata": {
        "id": "JxLdX_GG2BED",
        "colab": {
          "base_uri": "https://localhost:8080/",
          "height": 68
        },
        "outputId": "84dfe66f-2977-44e6-e420-7fe9f4f4ce59"
      },
      "source": [
        "#diagnostic step, checking if all the files are there.\n",
        "print(f'Files in train directory : {len(os.listdir(source))}')\n",
        "print(f'Files in REAL directory : {len(os.listdir(real_dest))}')\n",
        "print(f'Files in FAKE directory : {len(os.listdir(fake_dest))}')"
      ],
      "execution_count": null,
      "outputs": [
        {
          "output_type": "stream",
          "text": [
            "Files in train directory : 4\n",
            "Files in REAL directory : 1\n",
            "Files in FAKE directory : 1\n"
          ],
          "name": "stdout"
        }
      ]
    },
    {
      "cell_type": "markdown",
      "metadata": {
        "id": "5eit2B45DWPm"
      },
      "source": [
        "###Splitting the videos into frames"
      ]
    },
    {
      "cell_type": "code",
      "metadata": {
        "id": "IdrlP7KLGR2c"
      },
      "source": [
        "##Function for extracting frames from a given video. Syntax: frame_extractor(base_dir,dest_dir)\n",
        "\n",
        "def frame_extractor(base_dir,dest_dir):\n",
        "  import cv2 \n",
        "  import os \n",
        "  \n",
        "  frame_list = [f for f in os.listdir(base_dir) if f.endswith('.mp4')]\n",
        "\n",
        "  for fn in frame_list:\n",
        "    cam = cv2.VideoCapture(os.path.join(base_dir,fn)) \n",
        "    cam.set(cv2.CAP_PROP_FPS, 24)\n",
        "    while(True): \n",
        "      \n",
        "      # reading from frame \n",
        "      ret,frame = cam.read() \n",
        "\n",
        "      if ret: \n",
        "        # if video is still left continue creating images \n",
        "        name = dest_dir+'frame' + str(cam.get(cv2.CAP_PROP_POS_FRAMES)) + '.jpg'\n",
        "        print ('Creating...' + name) \n",
        "\n",
        "        # writing the extracted images \n",
        "        cv2.imwrite(name, frame) \n",
        "\n",
        "        # increasing counter so that it will \n",
        "        # show how many frames are created \n",
        "        #currentframe += 1\n",
        "      else: \n",
        "        break\n",
        "\n",
        "    # Release all space and windows once done \n",
        "    cam.release() \n",
        "    cv2.destroyAllWindows() \n"
      ],
      "execution_count": null,
      "outputs": []
    },
    {
      "cell_type": "code",
      "metadata": {
        "id": "XH0RJETXDcpd",
        "colab": {
          "base_uri": "https://localhost:8080/"
        },
        "outputId": "b3f4611d-4b62-4a6f-b0c0-5b52677780b4"
      },
      "source": [
        "#create these folders to store all the extracted frames from videos, in the next cell.\n",
        "dir_creator(os.path.join(main_dir,'Fake/'),'FakeFrames')  \n",
        "dir_creator(os.path.join(main_dir,'Real/'),'RealFrames')"
      ],
      "execution_count": null,
      "outputs": [
        {
          "output_type": "stream",
          "text": [
            "Folder named: FakeFrames, already exists, good to go!\n",
            "\n",
            "Folder named: RealFrames, already exists, good to go!\n",
            "\n"
          ],
          "name": "stdout"
        }
      ]
    },
    {
      "cell_type": "code",
      "metadata": {
        "id": "0MYetv1vMLSJ"
      },
      "source": [
        "FakeBase = os.path.join(main_dir,'Fake/videos/')                   #the base directory where the FAKE videos are stored\n",
        "FakeDest = os.path.join(main_dir,'Fake/FakeFrames/')               #the directory where you want to store the FAKE extracted frames\n",
        "RealBase = os.path.join(main_dir,'Real/videos/')                   #the base directory where the REAL videos are stored\n",
        "RealDest = os.path.join(main_dir,'Real/RealFrames/')               #the directory where you want to store the REAL extracted frames"
      ],
      "execution_count": null,
      "outputs": []
    },
    {
      "cell_type": "markdown",
      "metadata": {
        "id": "xU6prxtos_3W"
      },
      "source": [
        "###These processes below can take a lot of time. Upto 4 Hours"
      ]
    },
    {
      "cell_type": "code",
      "metadata": {
        "id": "oQbzmkF7VljT",
        "colab": {
          "base_uri": "https://localhost:8080/"
        },
        "outputId": "d0ce47c9-b471-4dd5-917d-4f71825578e3"
      },
      "source": [
        "frame_extractor(RealBase,RealDest)    #Extracting REAL FRAMES\n",
        "print(\"\\n *** Frames extracted successfully! *** \\n\")"
      ],
      "execution_count": null,
      "outputs": [
        {
          "output_type": "stream",
          "text": [
            "Creating.../gdrive/My Drive/Colab Notebooks/DeepFake/Real/RealFrames/frame1.0.jpg\n",
            "Creating.../gdrive/My Drive/Colab Notebooks/DeepFake/Real/RealFrames/frame2.0.jpg\n",
            "Creating.../gdrive/My Drive/Colab Notebooks/DeepFake/Real/RealFrames/frame3.0.jpg\n",
            "Creating.../gdrive/My Drive/Colab Notebooks/DeepFake/Real/RealFrames/frame4.0.jpg\n",
            "Creating.../gdrive/My Drive/Colab Notebooks/DeepFake/Real/RealFrames/frame5.0.jpg\n",
            "Creating.../gdrive/My Drive/Colab Notebooks/DeepFake/Real/RealFrames/frame6.0.jpg\n",
            "Creating.../gdrive/My Drive/Colab Notebooks/DeepFake/Real/RealFrames/frame7.0.jpg\n",
            "Creating.../gdrive/My Drive/Colab Notebooks/DeepFake/Real/RealFrames/frame8.0.jpg\n",
            "Creating.../gdrive/My Drive/Colab Notebooks/DeepFake/Real/RealFrames/frame9.0.jpg\n",
            "Creating.../gdrive/My Drive/Colab Notebooks/DeepFake/Real/RealFrames/frame10.0.jpg\n",
            "Creating.../gdrive/My Drive/Colab Notebooks/DeepFake/Real/RealFrames/frame11.0.jpg\n",
            "Creating.../gdrive/My Drive/Colab Notebooks/DeepFake/Real/RealFrames/frame12.0.jpg\n",
            "Creating.../gdrive/My Drive/Colab Notebooks/DeepFake/Real/RealFrames/frame13.0.jpg\n",
            "Creating.../gdrive/My Drive/Colab Notebooks/DeepFake/Real/RealFrames/frame14.0.jpg\n",
            "Creating.../gdrive/My Drive/Colab Notebooks/DeepFake/Real/RealFrames/frame15.0.jpg\n",
            "Creating.../gdrive/My Drive/Colab Notebooks/DeepFake/Real/RealFrames/frame16.0.jpg\n",
            "Creating.../gdrive/My Drive/Colab Notebooks/DeepFake/Real/RealFrames/frame17.0.jpg\n",
            "Creating.../gdrive/My Drive/Colab Notebooks/DeepFake/Real/RealFrames/frame18.0.jpg\n",
            "Creating.../gdrive/My Drive/Colab Notebooks/DeepFake/Real/RealFrames/frame19.0.jpg\n",
            "Creating.../gdrive/My Drive/Colab Notebooks/DeepFake/Real/RealFrames/frame20.0.jpg\n",
            "Creating.../gdrive/My Drive/Colab Notebooks/DeepFake/Real/RealFrames/frame21.0.jpg\n",
            "Creating.../gdrive/My Drive/Colab Notebooks/DeepFake/Real/RealFrames/frame22.0.jpg\n",
            "Creating.../gdrive/My Drive/Colab Notebooks/DeepFake/Real/RealFrames/frame23.0.jpg\n",
            "Creating.../gdrive/My Drive/Colab Notebooks/DeepFake/Real/RealFrames/frame24.0.jpg\n",
            "Creating.../gdrive/My Drive/Colab Notebooks/DeepFake/Real/RealFrames/frame25.0.jpg\n",
            "Creating.../gdrive/My Drive/Colab Notebooks/DeepFake/Real/RealFrames/frame26.0.jpg\n",
            "Creating.../gdrive/My Drive/Colab Notebooks/DeepFake/Real/RealFrames/frame27.0.jpg\n",
            "Creating.../gdrive/My Drive/Colab Notebooks/DeepFake/Real/RealFrames/frame28.0.jpg\n",
            "Creating.../gdrive/My Drive/Colab Notebooks/DeepFake/Real/RealFrames/frame29.0.jpg\n",
            "Creating.../gdrive/My Drive/Colab Notebooks/DeepFake/Real/RealFrames/frame30.0.jpg\n",
            "Creating.../gdrive/My Drive/Colab Notebooks/DeepFake/Real/RealFrames/frame31.0.jpg\n",
            "Creating.../gdrive/My Drive/Colab Notebooks/DeepFake/Real/RealFrames/frame32.0.jpg\n",
            "Creating.../gdrive/My Drive/Colab Notebooks/DeepFake/Real/RealFrames/frame33.0.jpg\n",
            "Creating.../gdrive/My Drive/Colab Notebooks/DeepFake/Real/RealFrames/frame34.0.jpg\n",
            "Creating.../gdrive/My Drive/Colab Notebooks/DeepFake/Real/RealFrames/frame35.0.jpg\n",
            "Creating.../gdrive/My Drive/Colab Notebooks/DeepFake/Real/RealFrames/frame36.0.jpg\n",
            "Creating.../gdrive/My Drive/Colab Notebooks/DeepFake/Real/RealFrames/frame37.0.jpg\n",
            "Creating.../gdrive/My Drive/Colab Notebooks/DeepFake/Real/RealFrames/frame38.0.jpg\n",
            "Creating.../gdrive/My Drive/Colab Notebooks/DeepFake/Real/RealFrames/frame39.0.jpg\n",
            "Creating.../gdrive/My Drive/Colab Notebooks/DeepFake/Real/RealFrames/frame40.0.jpg\n",
            "Creating.../gdrive/My Drive/Colab Notebooks/DeepFake/Real/RealFrames/frame41.0.jpg\n",
            "Creating.../gdrive/My Drive/Colab Notebooks/DeepFake/Real/RealFrames/frame42.0.jpg\n",
            "Creating.../gdrive/My Drive/Colab Notebooks/DeepFake/Real/RealFrames/frame43.0.jpg\n",
            "Creating.../gdrive/My Drive/Colab Notebooks/DeepFake/Real/RealFrames/frame44.0.jpg\n",
            "Creating.../gdrive/My Drive/Colab Notebooks/DeepFake/Real/RealFrames/frame45.0.jpg\n",
            "Creating.../gdrive/My Drive/Colab Notebooks/DeepFake/Real/RealFrames/frame46.0.jpg\n",
            "Creating.../gdrive/My Drive/Colab Notebooks/DeepFake/Real/RealFrames/frame47.0.jpg\n",
            "Creating.../gdrive/My Drive/Colab Notebooks/DeepFake/Real/RealFrames/frame48.0.jpg\n",
            "Creating.../gdrive/My Drive/Colab Notebooks/DeepFake/Real/RealFrames/frame49.0.jpg\n",
            "Creating.../gdrive/My Drive/Colab Notebooks/DeepFake/Real/RealFrames/frame50.0.jpg\n",
            "Creating.../gdrive/My Drive/Colab Notebooks/DeepFake/Real/RealFrames/frame51.0.jpg\n",
            "Creating.../gdrive/My Drive/Colab Notebooks/DeepFake/Real/RealFrames/frame52.0.jpg\n",
            "Creating.../gdrive/My Drive/Colab Notebooks/DeepFake/Real/RealFrames/frame53.0.jpg\n",
            "Creating.../gdrive/My Drive/Colab Notebooks/DeepFake/Real/RealFrames/frame54.0.jpg\n",
            "Creating.../gdrive/My Drive/Colab Notebooks/DeepFake/Real/RealFrames/frame55.0.jpg\n",
            "Creating.../gdrive/My Drive/Colab Notebooks/DeepFake/Real/RealFrames/frame56.0.jpg\n",
            "Creating.../gdrive/My Drive/Colab Notebooks/DeepFake/Real/RealFrames/frame57.0.jpg\n",
            "Creating.../gdrive/My Drive/Colab Notebooks/DeepFake/Real/RealFrames/frame58.0.jpg\n",
            "Creating.../gdrive/My Drive/Colab Notebooks/DeepFake/Real/RealFrames/frame59.0.jpg\n",
            "Creating.../gdrive/My Drive/Colab Notebooks/DeepFake/Real/RealFrames/frame60.0.jpg\n",
            "Creating.../gdrive/My Drive/Colab Notebooks/DeepFake/Real/RealFrames/frame61.0.jpg\n",
            "Creating.../gdrive/My Drive/Colab Notebooks/DeepFake/Real/RealFrames/frame62.0.jpg\n",
            "Creating.../gdrive/My Drive/Colab Notebooks/DeepFake/Real/RealFrames/frame63.0.jpg\n",
            "Creating.../gdrive/My Drive/Colab Notebooks/DeepFake/Real/RealFrames/frame64.0.jpg\n",
            "Creating.../gdrive/My Drive/Colab Notebooks/DeepFake/Real/RealFrames/frame65.0.jpg\n",
            "Creating.../gdrive/My Drive/Colab Notebooks/DeepFake/Real/RealFrames/frame66.0.jpg\n",
            "Creating.../gdrive/My Drive/Colab Notebooks/DeepFake/Real/RealFrames/frame67.0.jpg\n",
            "Creating.../gdrive/My Drive/Colab Notebooks/DeepFake/Real/RealFrames/frame68.0.jpg\n",
            "Creating.../gdrive/My Drive/Colab Notebooks/DeepFake/Real/RealFrames/frame69.0.jpg\n",
            "Creating.../gdrive/My Drive/Colab Notebooks/DeepFake/Real/RealFrames/frame70.0.jpg\n",
            "Creating.../gdrive/My Drive/Colab Notebooks/DeepFake/Real/RealFrames/frame71.0.jpg\n",
            "Creating.../gdrive/My Drive/Colab Notebooks/DeepFake/Real/RealFrames/frame72.0.jpg\n",
            "Creating.../gdrive/My Drive/Colab Notebooks/DeepFake/Real/RealFrames/frame73.0.jpg\n",
            "Creating.../gdrive/My Drive/Colab Notebooks/DeepFake/Real/RealFrames/frame74.0.jpg\n",
            "Creating.../gdrive/My Drive/Colab Notebooks/DeepFake/Real/RealFrames/frame75.0.jpg\n",
            "Creating.../gdrive/My Drive/Colab Notebooks/DeepFake/Real/RealFrames/frame76.0.jpg\n",
            "Creating.../gdrive/My Drive/Colab Notebooks/DeepFake/Real/RealFrames/frame77.0.jpg\n",
            "Creating.../gdrive/My Drive/Colab Notebooks/DeepFake/Real/RealFrames/frame78.0.jpg\n",
            "Creating.../gdrive/My Drive/Colab Notebooks/DeepFake/Real/RealFrames/frame79.0.jpg\n",
            "Creating.../gdrive/My Drive/Colab Notebooks/DeepFake/Real/RealFrames/frame80.0.jpg\n",
            "Creating.../gdrive/My Drive/Colab Notebooks/DeepFake/Real/RealFrames/frame81.0.jpg\n",
            "Creating.../gdrive/My Drive/Colab Notebooks/DeepFake/Real/RealFrames/frame82.0.jpg\n",
            "Creating.../gdrive/My Drive/Colab Notebooks/DeepFake/Real/RealFrames/frame83.0.jpg\n",
            "Creating.../gdrive/My Drive/Colab Notebooks/DeepFake/Real/RealFrames/frame84.0.jpg\n",
            "Creating.../gdrive/My Drive/Colab Notebooks/DeepFake/Real/RealFrames/frame85.0.jpg\n",
            "Creating.../gdrive/My Drive/Colab Notebooks/DeepFake/Real/RealFrames/frame86.0.jpg\n",
            "Creating.../gdrive/My Drive/Colab Notebooks/DeepFake/Real/RealFrames/frame87.0.jpg\n",
            "Creating.../gdrive/My Drive/Colab Notebooks/DeepFake/Real/RealFrames/frame88.0.jpg\n",
            "Creating.../gdrive/My Drive/Colab Notebooks/DeepFake/Real/RealFrames/frame89.0.jpg\n",
            "Creating.../gdrive/My Drive/Colab Notebooks/DeepFake/Real/RealFrames/frame90.0.jpg\n",
            "Creating.../gdrive/My Drive/Colab Notebooks/DeepFake/Real/RealFrames/frame91.0.jpg\n",
            "Creating.../gdrive/My Drive/Colab Notebooks/DeepFake/Real/RealFrames/frame92.0.jpg\n",
            "Creating.../gdrive/My Drive/Colab Notebooks/DeepFake/Real/RealFrames/frame93.0.jpg\n",
            "Creating.../gdrive/My Drive/Colab Notebooks/DeepFake/Real/RealFrames/frame94.0.jpg\n",
            "Creating.../gdrive/My Drive/Colab Notebooks/DeepFake/Real/RealFrames/frame95.0.jpg\n",
            "Creating.../gdrive/My Drive/Colab Notebooks/DeepFake/Real/RealFrames/frame96.0.jpg\n",
            "Creating.../gdrive/My Drive/Colab Notebooks/DeepFake/Real/RealFrames/frame97.0.jpg\n",
            "Creating.../gdrive/My Drive/Colab Notebooks/DeepFake/Real/RealFrames/frame98.0.jpg\n",
            "Creating.../gdrive/My Drive/Colab Notebooks/DeepFake/Real/RealFrames/frame99.0.jpg\n",
            "Creating.../gdrive/My Drive/Colab Notebooks/DeepFake/Real/RealFrames/frame100.0.jpg\n",
            "Creating.../gdrive/My Drive/Colab Notebooks/DeepFake/Real/RealFrames/frame101.0.jpg\n",
            "Creating.../gdrive/My Drive/Colab Notebooks/DeepFake/Real/RealFrames/frame102.0.jpg\n",
            "Creating.../gdrive/My Drive/Colab Notebooks/DeepFake/Real/RealFrames/frame103.0.jpg\n",
            "Creating.../gdrive/My Drive/Colab Notebooks/DeepFake/Real/RealFrames/frame104.0.jpg\n",
            "Creating.../gdrive/My Drive/Colab Notebooks/DeepFake/Real/RealFrames/frame105.0.jpg\n",
            "Creating.../gdrive/My Drive/Colab Notebooks/DeepFake/Real/RealFrames/frame106.0.jpg\n",
            "Creating.../gdrive/My Drive/Colab Notebooks/DeepFake/Real/RealFrames/frame107.0.jpg\n",
            "Creating.../gdrive/My Drive/Colab Notebooks/DeepFake/Real/RealFrames/frame108.0.jpg\n",
            "Creating.../gdrive/My Drive/Colab Notebooks/DeepFake/Real/RealFrames/frame109.0.jpg\n",
            "Creating.../gdrive/My Drive/Colab Notebooks/DeepFake/Real/RealFrames/frame110.0.jpg\n",
            "Creating.../gdrive/My Drive/Colab Notebooks/DeepFake/Real/RealFrames/frame111.0.jpg\n",
            "Creating.../gdrive/My Drive/Colab Notebooks/DeepFake/Real/RealFrames/frame112.0.jpg\n",
            "Creating.../gdrive/My Drive/Colab Notebooks/DeepFake/Real/RealFrames/frame113.0.jpg\n",
            "Creating.../gdrive/My Drive/Colab Notebooks/DeepFake/Real/RealFrames/frame114.0.jpg\n",
            "Creating.../gdrive/My Drive/Colab Notebooks/DeepFake/Real/RealFrames/frame115.0.jpg\n",
            "Creating.../gdrive/My Drive/Colab Notebooks/DeepFake/Real/RealFrames/frame116.0.jpg\n",
            "Creating.../gdrive/My Drive/Colab Notebooks/DeepFake/Real/RealFrames/frame117.0.jpg\n",
            "Creating.../gdrive/My Drive/Colab Notebooks/DeepFake/Real/RealFrames/frame118.0.jpg\n",
            "Creating.../gdrive/My Drive/Colab Notebooks/DeepFake/Real/RealFrames/frame119.0.jpg\n",
            "Creating.../gdrive/My Drive/Colab Notebooks/DeepFake/Real/RealFrames/frame120.0.jpg\n",
            "Creating.../gdrive/My Drive/Colab Notebooks/DeepFake/Real/RealFrames/frame121.0.jpg\n",
            "Creating.../gdrive/My Drive/Colab Notebooks/DeepFake/Real/RealFrames/frame122.0.jpg\n",
            "Creating.../gdrive/My Drive/Colab Notebooks/DeepFake/Real/RealFrames/frame123.0.jpg\n",
            "Creating.../gdrive/My Drive/Colab Notebooks/DeepFake/Real/RealFrames/frame124.0.jpg\n",
            "Creating.../gdrive/My Drive/Colab Notebooks/DeepFake/Real/RealFrames/frame125.0.jpg\n",
            "Creating.../gdrive/My Drive/Colab Notebooks/DeepFake/Real/RealFrames/frame126.0.jpg\n",
            "Creating.../gdrive/My Drive/Colab Notebooks/DeepFake/Real/RealFrames/frame127.0.jpg\n",
            "Creating.../gdrive/My Drive/Colab Notebooks/DeepFake/Real/RealFrames/frame128.0.jpg\n",
            "Creating.../gdrive/My Drive/Colab Notebooks/DeepFake/Real/RealFrames/frame129.0.jpg\n",
            "Creating.../gdrive/My Drive/Colab Notebooks/DeepFake/Real/RealFrames/frame130.0.jpg\n",
            "Creating.../gdrive/My Drive/Colab Notebooks/DeepFake/Real/RealFrames/frame131.0.jpg\n",
            "Creating.../gdrive/My Drive/Colab Notebooks/DeepFake/Real/RealFrames/frame132.0.jpg\n",
            "Creating.../gdrive/My Drive/Colab Notebooks/DeepFake/Real/RealFrames/frame133.0.jpg\n",
            "Creating.../gdrive/My Drive/Colab Notebooks/DeepFake/Real/RealFrames/frame134.0.jpg\n",
            "Creating.../gdrive/My Drive/Colab Notebooks/DeepFake/Real/RealFrames/frame135.0.jpg\n",
            "Creating.../gdrive/My Drive/Colab Notebooks/DeepFake/Real/RealFrames/frame136.0.jpg\n",
            "Creating.../gdrive/My Drive/Colab Notebooks/DeepFake/Real/RealFrames/frame137.0.jpg\n",
            "Creating.../gdrive/My Drive/Colab Notebooks/DeepFake/Real/RealFrames/frame138.0.jpg\n",
            "Creating.../gdrive/My Drive/Colab Notebooks/DeepFake/Real/RealFrames/frame139.0.jpg\n",
            "Creating.../gdrive/My Drive/Colab Notebooks/DeepFake/Real/RealFrames/frame140.0.jpg\n",
            "Creating.../gdrive/My Drive/Colab Notebooks/DeepFake/Real/RealFrames/frame141.0.jpg\n",
            "Creating.../gdrive/My Drive/Colab Notebooks/DeepFake/Real/RealFrames/frame142.0.jpg\n",
            "Creating.../gdrive/My Drive/Colab Notebooks/DeepFake/Real/RealFrames/frame143.0.jpg\n",
            "Creating.../gdrive/My Drive/Colab Notebooks/DeepFake/Real/RealFrames/frame144.0.jpg\n",
            "Creating.../gdrive/My Drive/Colab Notebooks/DeepFake/Real/RealFrames/frame145.0.jpg\n",
            "Creating.../gdrive/My Drive/Colab Notebooks/DeepFake/Real/RealFrames/frame146.0.jpg\n",
            "Creating.../gdrive/My Drive/Colab Notebooks/DeepFake/Real/RealFrames/frame147.0.jpg\n",
            "Creating.../gdrive/My Drive/Colab Notebooks/DeepFake/Real/RealFrames/frame148.0.jpg\n",
            "Creating.../gdrive/My Drive/Colab Notebooks/DeepFake/Real/RealFrames/frame149.0.jpg\n",
            "Creating.../gdrive/My Drive/Colab Notebooks/DeepFake/Real/RealFrames/frame150.0.jpg\n",
            "Creating.../gdrive/My Drive/Colab Notebooks/DeepFake/Real/RealFrames/frame151.0.jpg\n",
            "Creating.../gdrive/My Drive/Colab Notebooks/DeepFake/Real/RealFrames/frame152.0.jpg\n",
            "Creating.../gdrive/My Drive/Colab Notebooks/DeepFake/Real/RealFrames/frame153.0.jpg\n",
            "Creating.../gdrive/My Drive/Colab Notebooks/DeepFake/Real/RealFrames/frame154.0.jpg\n",
            "Creating.../gdrive/My Drive/Colab Notebooks/DeepFake/Real/RealFrames/frame155.0.jpg\n",
            "Creating.../gdrive/My Drive/Colab Notebooks/DeepFake/Real/RealFrames/frame156.0.jpg\n",
            "Creating.../gdrive/My Drive/Colab Notebooks/DeepFake/Real/RealFrames/frame157.0.jpg\n",
            "Creating.../gdrive/My Drive/Colab Notebooks/DeepFake/Real/RealFrames/frame158.0.jpg\n",
            "Creating.../gdrive/My Drive/Colab Notebooks/DeepFake/Real/RealFrames/frame159.0.jpg\n",
            "Creating.../gdrive/My Drive/Colab Notebooks/DeepFake/Real/RealFrames/frame160.0.jpg\n",
            "Creating.../gdrive/My Drive/Colab Notebooks/DeepFake/Real/RealFrames/frame161.0.jpg\n",
            "Creating.../gdrive/My Drive/Colab Notebooks/DeepFake/Real/RealFrames/frame162.0.jpg\n",
            "Creating.../gdrive/My Drive/Colab Notebooks/DeepFake/Real/RealFrames/frame163.0.jpg\n",
            "Creating.../gdrive/My Drive/Colab Notebooks/DeepFake/Real/RealFrames/frame164.0.jpg\n",
            "Creating.../gdrive/My Drive/Colab Notebooks/DeepFake/Real/RealFrames/frame165.0.jpg\n",
            "Creating.../gdrive/My Drive/Colab Notebooks/DeepFake/Real/RealFrames/frame166.0.jpg\n",
            "Creating.../gdrive/My Drive/Colab Notebooks/DeepFake/Real/RealFrames/frame167.0.jpg\n",
            "Creating.../gdrive/My Drive/Colab Notebooks/DeepFake/Real/RealFrames/frame168.0.jpg\n",
            "Creating.../gdrive/My Drive/Colab Notebooks/DeepFake/Real/RealFrames/frame169.0.jpg\n",
            "Creating.../gdrive/My Drive/Colab Notebooks/DeepFake/Real/RealFrames/frame170.0.jpg\n",
            "Creating.../gdrive/My Drive/Colab Notebooks/DeepFake/Real/RealFrames/frame171.0.jpg\n",
            "Creating.../gdrive/My Drive/Colab Notebooks/DeepFake/Real/RealFrames/frame172.0.jpg\n",
            "Creating.../gdrive/My Drive/Colab Notebooks/DeepFake/Real/RealFrames/frame173.0.jpg\n",
            "Creating.../gdrive/My Drive/Colab Notebooks/DeepFake/Real/RealFrames/frame174.0.jpg\n",
            "Creating.../gdrive/My Drive/Colab Notebooks/DeepFake/Real/RealFrames/frame175.0.jpg\n",
            "Creating.../gdrive/My Drive/Colab Notebooks/DeepFake/Real/RealFrames/frame176.0.jpg\n",
            "Creating.../gdrive/My Drive/Colab Notebooks/DeepFake/Real/RealFrames/frame177.0.jpg\n",
            "Creating.../gdrive/My Drive/Colab Notebooks/DeepFake/Real/RealFrames/frame178.0.jpg\n",
            "Creating.../gdrive/My Drive/Colab Notebooks/DeepFake/Real/RealFrames/frame179.0.jpg\n",
            "Creating.../gdrive/My Drive/Colab Notebooks/DeepFake/Real/RealFrames/frame180.0.jpg\n",
            "Creating.../gdrive/My Drive/Colab Notebooks/DeepFake/Real/RealFrames/frame181.0.jpg\n",
            "Creating.../gdrive/My Drive/Colab Notebooks/DeepFake/Real/RealFrames/frame182.0.jpg\n",
            "Creating.../gdrive/My Drive/Colab Notebooks/DeepFake/Real/RealFrames/frame183.0.jpg\n",
            "Creating.../gdrive/My Drive/Colab Notebooks/DeepFake/Real/RealFrames/frame184.0.jpg\n",
            "Creating.../gdrive/My Drive/Colab Notebooks/DeepFake/Real/RealFrames/frame185.0.jpg\n",
            "Creating.../gdrive/My Drive/Colab Notebooks/DeepFake/Real/RealFrames/frame186.0.jpg\n",
            "Creating.../gdrive/My Drive/Colab Notebooks/DeepFake/Real/RealFrames/frame187.0.jpg\n",
            "Creating.../gdrive/My Drive/Colab Notebooks/DeepFake/Real/RealFrames/frame188.0.jpg\n",
            "Creating.../gdrive/My Drive/Colab Notebooks/DeepFake/Real/RealFrames/frame189.0.jpg\n",
            "Creating.../gdrive/My Drive/Colab Notebooks/DeepFake/Real/RealFrames/frame190.0.jpg\n",
            "Creating.../gdrive/My Drive/Colab Notebooks/DeepFake/Real/RealFrames/frame191.0.jpg\n",
            "Creating.../gdrive/My Drive/Colab Notebooks/DeepFake/Real/RealFrames/frame192.0.jpg\n",
            "Creating.../gdrive/My Drive/Colab Notebooks/DeepFake/Real/RealFrames/frame193.0.jpg\n",
            "Creating.../gdrive/My Drive/Colab Notebooks/DeepFake/Real/RealFrames/frame194.0.jpg\n",
            "Creating.../gdrive/My Drive/Colab Notebooks/DeepFake/Real/RealFrames/frame195.0.jpg\n",
            "Creating.../gdrive/My Drive/Colab Notebooks/DeepFake/Real/RealFrames/frame196.0.jpg\n",
            "Creating.../gdrive/My Drive/Colab Notebooks/DeepFake/Real/RealFrames/frame197.0.jpg\n",
            "Creating.../gdrive/My Drive/Colab Notebooks/DeepFake/Real/RealFrames/frame198.0.jpg\n",
            "Creating.../gdrive/My Drive/Colab Notebooks/DeepFake/Real/RealFrames/frame199.0.jpg\n",
            "Creating.../gdrive/My Drive/Colab Notebooks/DeepFake/Real/RealFrames/frame200.0.jpg\n",
            "Creating.../gdrive/My Drive/Colab Notebooks/DeepFake/Real/RealFrames/frame201.0.jpg\n",
            "Creating.../gdrive/My Drive/Colab Notebooks/DeepFake/Real/RealFrames/frame202.0.jpg\n",
            "Creating.../gdrive/My Drive/Colab Notebooks/DeepFake/Real/RealFrames/frame203.0.jpg\n",
            "Creating.../gdrive/My Drive/Colab Notebooks/DeepFake/Real/RealFrames/frame204.0.jpg\n",
            "Creating.../gdrive/My Drive/Colab Notebooks/DeepFake/Real/RealFrames/frame205.0.jpg\n",
            "Creating.../gdrive/My Drive/Colab Notebooks/DeepFake/Real/RealFrames/frame206.0.jpg\n",
            "Creating.../gdrive/My Drive/Colab Notebooks/DeepFake/Real/RealFrames/frame207.0.jpg\n",
            "Creating.../gdrive/My Drive/Colab Notebooks/DeepFake/Real/RealFrames/frame208.0.jpg\n",
            "Creating.../gdrive/My Drive/Colab Notebooks/DeepFake/Real/RealFrames/frame209.0.jpg\n",
            "Creating.../gdrive/My Drive/Colab Notebooks/DeepFake/Real/RealFrames/frame210.0.jpg\n",
            "Creating.../gdrive/My Drive/Colab Notebooks/DeepFake/Real/RealFrames/frame211.0.jpg\n",
            "Creating.../gdrive/My Drive/Colab Notebooks/DeepFake/Real/RealFrames/frame212.0.jpg\n",
            "Creating.../gdrive/My Drive/Colab Notebooks/DeepFake/Real/RealFrames/frame213.0.jpg\n",
            "Creating.../gdrive/My Drive/Colab Notebooks/DeepFake/Real/RealFrames/frame214.0.jpg\n",
            "Creating.../gdrive/My Drive/Colab Notebooks/DeepFake/Real/RealFrames/frame215.0.jpg\n",
            "Creating.../gdrive/My Drive/Colab Notebooks/DeepFake/Real/RealFrames/frame216.0.jpg\n",
            "Creating.../gdrive/My Drive/Colab Notebooks/DeepFake/Real/RealFrames/frame217.0.jpg\n",
            "Creating.../gdrive/My Drive/Colab Notebooks/DeepFake/Real/RealFrames/frame218.0.jpg\n",
            "Creating.../gdrive/My Drive/Colab Notebooks/DeepFake/Real/RealFrames/frame219.0.jpg\n",
            "Creating.../gdrive/My Drive/Colab Notebooks/DeepFake/Real/RealFrames/frame220.0.jpg\n",
            "Creating.../gdrive/My Drive/Colab Notebooks/DeepFake/Real/RealFrames/frame221.0.jpg\n",
            "Creating.../gdrive/My Drive/Colab Notebooks/DeepFake/Real/RealFrames/frame222.0.jpg\n",
            "Creating.../gdrive/My Drive/Colab Notebooks/DeepFake/Real/RealFrames/frame223.0.jpg\n",
            "Creating.../gdrive/My Drive/Colab Notebooks/DeepFake/Real/RealFrames/frame224.0.jpg\n",
            "Creating.../gdrive/My Drive/Colab Notebooks/DeepFake/Real/RealFrames/frame225.0.jpg\n",
            "Creating.../gdrive/My Drive/Colab Notebooks/DeepFake/Real/RealFrames/frame226.0.jpg\n",
            "Creating.../gdrive/My Drive/Colab Notebooks/DeepFake/Real/RealFrames/frame227.0.jpg\n",
            "Creating.../gdrive/My Drive/Colab Notebooks/DeepFake/Real/RealFrames/frame228.0.jpg\n",
            "Creating.../gdrive/My Drive/Colab Notebooks/DeepFake/Real/RealFrames/frame229.0.jpg\n",
            "Creating.../gdrive/My Drive/Colab Notebooks/DeepFake/Real/RealFrames/frame230.0.jpg\n",
            "Creating.../gdrive/My Drive/Colab Notebooks/DeepFake/Real/RealFrames/frame231.0.jpg\n",
            "Creating.../gdrive/My Drive/Colab Notebooks/DeepFake/Real/RealFrames/frame232.0.jpg\n",
            "Creating.../gdrive/My Drive/Colab Notebooks/DeepFake/Real/RealFrames/frame233.0.jpg\n",
            "Creating.../gdrive/My Drive/Colab Notebooks/DeepFake/Real/RealFrames/frame234.0.jpg\n",
            "Creating.../gdrive/My Drive/Colab Notebooks/DeepFake/Real/RealFrames/frame235.0.jpg\n",
            "Creating.../gdrive/My Drive/Colab Notebooks/DeepFake/Real/RealFrames/frame236.0.jpg\n",
            "Creating.../gdrive/My Drive/Colab Notebooks/DeepFake/Real/RealFrames/frame237.0.jpg\n",
            "Creating.../gdrive/My Drive/Colab Notebooks/DeepFake/Real/RealFrames/frame238.0.jpg\n",
            "Creating.../gdrive/My Drive/Colab Notebooks/DeepFake/Real/RealFrames/frame239.0.jpg\n",
            "Creating.../gdrive/My Drive/Colab Notebooks/DeepFake/Real/RealFrames/frame240.0.jpg\n",
            "Creating.../gdrive/My Drive/Colab Notebooks/DeepFake/Real/RealFrames/frame241.0.jpg\n",
            "Creating.../gdrive/My Drive/Colab Notebooks/DeepFake/Real/RealFrames/frame242.0.jpg\n",
            "Creating.../gdrive/My Drive/Colab Notebooks/DeepFake/Real/RealFrames/frame243.0.jpg\n",
            "Creating.../gdrive/My Drive/Colab Notebooks/DeepFake/Real/RealFrames/frame244.0.jpg\n",
            "Creating.../gdrive/My Drive/Colab Notebooks/DeepFake/Real/RealFrames/frame245.0.jpg\n",
            "Creating.../gdrive/My Drive/Colab Notebooks/DeepFake/Real/RealFrames/frame246.0.jpg\n",
            "Creating.../gdrive/My Drive/Colab Notebooks/DeepFake/Real/RealFrames/frame247.0.jpg\n",
            "Creating.../gdrive/My Drive/Colab Notebooks/DeepFake/Real/RealFrames/frame248.0.jpg\n",
            "Creating.../gdrive/My Drive/Colab Notebooks/DeepFake/Real/RealFrames/frame249.0.jpg\n",
            "Creating.../gdrive/My Drive/Colab Notebooks/DeepFake/Real/RealFrames/frame250.0.jpg\n",
            "Creating.../gdrive/My Drive/Colab Notebooks/DeepFake/Real/RealFrames/frame251.0.jpg\n",
            "Creating.../gdrive/My Drive/Colab Notebooks/DeepFake/Real/RealFrames/frame252.0.jpg\n",
            "Creating.../gdrive/My Drive/Colab Notebooks/DeepFake/Real/RealFrames/frame253.0.jpg\n",
            "Creating.../gdrive/My Drive/Colab Notebooks/DeepFake/Real/RealFrames/frame254.0.jpg\n",
            "Creating.../gdrive/My Drive/Colab Notebooks/DeepFake/Real/RealFrames/frame255.0.jpg\n",
            "Creating.../gdrive/My Drive/Colab Notebooks/DeepFake/Real/RealFrames/frame256.0.jpg\n",
            "Creating.../gdrive/My Drive/Colab Notebooks/DeepFake/Real/RealFrames/frame257.0.jpg\n",
            "Creating.../gdrive/My Drive/Colab Notebooks/DeepFake/Real/RealFrames/frame258.0.jpg\n",
            "Creating.../gdrive/My Drive/Colab Notebooks/DeepFake/Real/RealFrames/frame259.0.jpg\n",
            "Creating.../gdrive/My Drive/Colab Notebooks/DeepFake/Real/RealFrames/frame260.0.jpg\n",
            "Creating.../gdrive/My Drive/Colab Notebooks/DeepFake/Real/RealFrames/frame261.0.jpg\n",
            "Creating.../gdrive/My Drive/Colab Notebooks/DeepFake/Real/RealFrames/frame262.0.jpg\n",
            "Creating.../gdrive/My Drive/Colab Notebooks/DeepFake/Real/RealFrames/frame263.0.jpg\n",
            "Creating.../gdrive/My Drive/Colab Notebooks/DeepFake/Real/RealFrames/frame264.0.jpg\n",
            "Creating.../gdrive/My Drive/Colab Notebooks/DeepFake/Real/RealFrames/frame265.0.jpg\n",
            "Creating.../gdrive/My Drive/Colab Notebooks/DeepFake/Real/RealFrames/frame266.0.jpg\n",
            "Creating.../gdrive/My Drive/Colab Notebooks/DeepFake/Real/RealFrames/frame267.0.jpg\n",
            "Creating.../gdrive/My Drive/Colab Notebooks/DeepFake/Real/RealFrames/frame268.0.jpg\n",
            "Creating.../gdrive/My Drive/Colab Notebooks/DeepFake/Real/RealFrames/frame269.0.jpg\n",
            "Creating.../gdrive/My Drive/Colab Notebooks/DeepFake/Real/RealFrames/frame270.0.jpg\n",
            "Creating.../gdrive/My Drive/Colab Notebooks/DeepFake/Real/RealFrames/frame271.0.jpg\n",
            "Creating.../gdrive/My Drive/Colab Notebooks/DeepFake/Real/RealFrames/frame272.0.jpg\n",
            "Creating.../gdrive/My Drive/Colab Notebooks/DeepFake/Real/RealFrames/frame273.0.jpg\n",
            "Creating.../gdrive/My Drive/Colab Notebooks/DeepFake/Real/RealFrames/frame274.0.jpg\n",
            "Creating.../gdrive/My Drive/Colab Notebooks/DeepFake/Real/RealFrames/frame275.0.jpg\n",
            "Creating.../gdrive/My Drive/Colab Notebooks/DeepFake/Real/RealFrames/frame276.0.jpg\n",
            "Creating.../gdrive/My Drive/Colab Notebooks/DeepFake/Real/RealFrames/frame277.0.jpg\n",
            "Creating.../gdrive/My Drive/Colab Notebooks/DeepFake/Real/RealFrames/frame278.0.jpg\n",
            "Creating.../gdrive/My Drive/Colab Notebooks/DeepFake/Real/RealFrames/frame279.0.jpg\n",
            "Creating.../gdrive/My Drive/Colab Notebooks/DeepFake/Real/RealFrames/frame280.0.jpg\n",
            "Creating.../gdrive/My Drive/Colab Notebooks/DeepFake/Real/RealFrames/frame281.0.jpg\n",
            "Creating.../gdrive/My Drive/Colab Notebooks/DeepFake/Real/RealFrames/frame282.0.jpg\n",
            "Creating.../gdrive/My Drive/Colab Notebooks/DeepFake/Real/RealFrames/frame283.0.jpg\n",
            "Creating.../gdrive/My Drive/Colab Notebooks/DeepFake/Real/RealFrames/frame284.0.jpg\n",
            "Creating.../gdrive/My Drive/Colab Notebooks/DeepFake/Real/RealFrames/frame285.0.jpg\n",
            "Creating.../gdrive/My Drive/Colab Notebooks/DeepFake/Real/RealFrames/frame286.0.jpg\n",
            "Creating.../gdrive/My Drive/Colab Notebooks/DeepFake/Real/RealFrames/frame287.0.jpg\n",
            "Creating.../gdrive/My Drive/Colab Notebooks/DeepFake/Real/RealFrames/frame288.0.jpg\n",
            "Creating.../gdrive/My Drive/Colab Notebooks/DeepFake/Real/RealFrames/frame289.0.jpg\n",
            "Creating.../gdrive/My Drive/Colab Notebooks/DeepFake/Real/RealFrames/frame290.0.jpg\n",
            "Creating.../gdrive/My Drive/Colab Notebooks/DeepFake/Real/RealFrames/frame291.0.jpg\n",
            "Creating.../gdrive/My Drive/Colab Notebooks/DeepFake/Real/RealFrames/frame292.0.jpg\n",
            "Creating.../gdrive/My Drive/Colab Notebooks/DeepFake/Real/RealFrames/frame293.0.jpg\n",
            "Creating.../gdrive/My Drive/Colab Notebooks/DeepFake/Real/RealFrames/frame294.0.jpg\n",
            "Creating.../gdrive/My Drive/Colab Notebooks/DeepFake/Real/RealFrames/frame295.0.jpg\n",
            "Creating.../gdrive/My Drive/Colab Notebooks/DeepFake/Real/RealFrames/frame296.0.jpg\n",
            "Creating.../gdrive/My Drive/Colab Notebooks/DeepFake/Real/RealFrames/frame297.0.jpg\n",
            "Creating.../gdrive/My Drive/Colab Notebooks/DeepFake/Real/RealFrames/frame298.0.jpg\n",
            "Creating.../gdrive/My Drive/Colab Notebooks/DeepFake/Real/RealFrames/frame299.0.jpg\n",
            "Creating.../gdrive/My Drive/Colab Notebooks/DeepFake/Real/RealFrames/frame300.0.jpg\n",
            "\n",
            " *** Frames extracted successfully! *** \n",
            "\n"
          ],
          "name": "stdout"
        }
      ]
    },
    {
      "cell_type": "code",
      "metadata": {
        "id": "12BY88jEWkK6",
        "colab": {
          "base_uri": "https://localhost:8080/"
        },
        "outputId": "44fa74bb-0cef-49a1-c9c7-4c1a409bfe40"
      },
      "source": [
        "frame_extractor(FakeBase,FakeDest)    #Extracting FAKE FRAMES\n",
        "print(\"\\n *** Frames extracted successfully! *** \\n\")"
      ],
      "execution_count": null,
      "outputs": [
        {
          "output_type": "stream",
          "text": [
            "Creating.../gdrive/My Drive/Colab Notebooks/DeepFake/Fake/FakeFrames/frame1.0.jpg\n",
            "Creating.../gdrive/My Drive/Colab Notebooks/DeepFake/Fake/FakeFrames/frame2.0.jpg\n",
            "Creating.../gdrive/My Drive/Colab Notebooks/DeepFake/Fake/FakeFrames/frame3.0.jpg\n",
            "Creating.../gdrive/My Drive/Colab Notebooks/DeepFake/Fake/FakeFrames/frame4.0.jpg\n",
            "Creating.../gdrive/My Drive/Colab Notebooks/DeepFake/Fake/FakeFrames/frame5.0.jpg\n",
            "Creating.../gdrive/My Drive/Colab Notebooks/DeepFake/Fake/FakeFrames/frame6.0.jpg\n",
            "Creating.../gdrive/My Drive/Colab Notebooks/DeepFake/Fake/FakeFrames/frame7.0.jpg\n",
            "Creating.../gdrive/My Drive/Colab Notebooks/DeepFake/Fake/FakeFrames/frame8.0.jpg\n",
            "Creating.../gdrive/My Drive/Colab Notebooks/DeepFake/Fake/FakeFrames/frame9.0.jpg\n",
            "Creating.../gdrive/My Drive/Colab Notebooks/DeepFake/Fake/FakeFrames/frame10.0.jpg\n",
            "Creating.../gdrive/My Drive/Colab Notebooks/DeepFake/Fake/FakeFrames/frame11.0.jpg\n",
            "Creating.../gdrive/My Drive/Colab Notebooks/DeepFake/Fake/FakeFrames/frame12.0.jpg\n",
            "Creating.../gdrive/My Drive/Colab Notebooks/DeepFake/Fake/FakeFrames/frame13.0.jpg\n",
            "Creating.../gdrive/My Drive/Colab Notebooks/DeepFake/Fake/FakeFrames/frame14.0.jpg\n",
            "Creating.../gdrive/My Drive/Colab Notebooks/DeepFake/Fake/FakeFrames/frame15.0.jpg\n",
            "Creating.../gdrive/My Drive/Colab Notebooks/DeepFake/Fake/FakeFrames/frame16.0.jpg\n",
            "Creating.../gdrive/My Drive/Colab Notebooks/DeepFake/Fake/FakeFrames/frame17.0.jpg\n",
            "Creating.../gdrive/My Drive/Colab Notebooks/DeepFake/Fake/FakeFrames/frame18.0.jpg\n",
            "Creating.../gdrive/My Drive/Colab Notebooks/DeepFake/Fake/FakeFrames/frame19.0.jpg\n",
            "Creating.../gdrive/My Drive/Colab Notebooks/DeepFake/Fake/FakeFrames/frame20.0.jpg\n",
            "Creating.../gdrive/My Drive/Colab Notebooks/DeepFake/Fake/FakeFrames/frame21.0.jpg\n",
            "Creating.../gdrive/My Drive/Colab Notebooks/DeepFake/Fake/FakeFrames/frame22.0.jpg\n",
            "Creating.../gdrive/My Drive/Colab Notebooks/DeepFake/Fake/FakeFrames/frame23.0.jpg\n",
            "Creating.../gdrive/My Drive/Colab Notebooks/DeepFake/Fake/FakeFrames/frame24.0.jpg\n",
            "Creating.../gdrive/My Drive/Colab Notebooks/DeepFake/Fake/FakeFrames/frame25.0.jpg\n",
            "Creating.../gdrive/My Drive/Colab Notebooks/DeepFake/Fake/FakeFrames/frame26.0.jpg\n",
            "Creating.../gdrive/My Drive/Colab Notebooks/DeepFake/Fake/FakeFrames/frame27.0.jpg\n",
            "Creating.../gdrive/My Drive/Colab Notebooks/DeepFake/Fake/FakeFrames/frame28.0.jpg\n",
            "Creating.../gdrive/My Drive/Colab Notebooks/DeepFake/Fake/FakeFrames/frame29.0.jpg\n",
            "Creating.../gdrive/My Drive/Colab Notebooks/DeepFake/Fake/FakeFrames/frame30.0.jpg\n",
            "Creating.../gdrive/My Drive/Colab Notebooks/DeepFake/Fake/FakeFrames/frame31.0.jpg\n",
            "Creating.../gdrive/My Drive/Colab Notebooks/DeepFake/Fake/FakeFrames/frame32.0.jpg\n",
            "Creating.../gdrive/My Drive/Colab Notebooks/DeepFake/Fake/FakeFrames/frame33.0.jpg\n",
            "Creating.../gdrive/My Drive/Colab Notebooks/DeepFake/Fake/FakeFrames/frame34.0.jpg\n",
            "Creating.../gdrive/My Drive/Colab Notebooks/DeepFake/Fake/FakeFrames/frame35.0.jpg\n",
            "Creating.../gdrive/My Drive/Colab Notebooks/DeepFake/Fake/FakeFrames/frame36.0.jpg\n",
            "Creating.../gdrive/My Drive/Colab Notebooks/DeepFake/Fake/FakeFrames/frame37.0.jpg\n",
            "Creating.../gdrive/My Drive/Colab Notebooks/DeepFake/Fake/FakeFrames/frame38.0.jpg\n",
            "Creating.../gdrive/My Drive/Colab Notebooks/DeepFake/Fake/FakeFrames/frame39.0.jpg\n",
            "Creating.../gdrive/My Drive/Colab Notebooks/DeepFake/Fake/FakeFrames/frame40.0.jpg\n",
            "Creating.../gdrive/My Drive/Colab Notebooks/DeepFake/Fake/FakeFrames/frame41.0.jpg\n",
            "Creating.../gdrive/My Drive/Colab Notebooks/DeepFake/Fake/FakeFrames/frame42.0.jpg\n",
            "Creating.../gdrive/My Drive/Colab Notebooks/DeepFake/Fake/FakeFrames/frame43.0.jpg\n",
            "Creating.../gdrive/My Drive/Colab Notebooks/DeepFake/Fake/FakeFrames/frame44.0.jpg\n",
            "Creating.../gdrive/My Drive/Colab Notebooks/DeepFake/Fake/FakeFrames/frame45.0.jpg\n",
            "Creating.../gdrive/My Drive/Colab Notebooks/DeepFake/Fake/FakeFrames/frame46.0.jpg\n",
            "Creating.../gdrive/My Drive/Colab Notebooks/DeepFake/Fake/FakeFrames/frame47.0.jpg\n",
            "Creating.../gdrive/My Drive/Colab Notebooks/DeepFake/Fake/FakeFrames/frame48.0.jpg\n",
            "Creating.../gdrive/My Drive/Colab Notebooks/DeepFake/Fake/FakeFrames/frame49.0.jpg\n",
            "Creating.../gdrive/My Drive/Colab Notebooks/DeepFake/Fake/FakeFrames/frame50.0.jpg\n",
            "Creating.../gdrive/My Drive/Colab Notebooks/DeepFake/Fake/FakeFrames/frame51.0.jpg\n",
            "Creating.../gdrive/My Drive/Colab Notebooks/DeepFake/Fake/FakeFrames/frame52.0.jpg\n",
            "Creating.../gdrive/My Drive/Colab Notebooks/DeepFake/Fake/FakeFrames/frame53.0.jpg\n",
            "Creating.../gdrive/My Drive/Colab Notebooks/DeepFake/Fake/FakeFrames/frame54.0.jpg\n",
            "Creating.../gdrive/My Drive/Colab Notebooks/DeepFake/Fake/FakeFrames/frame55.0.jpg\n",
            "Creating.../gdrive/My Drive/Colab Notebooks/DeepFake/Fake/FakeFrames/frame56.0.jpg\n",
            "Creating.../gdrive/My Drive/Colab Notebooks/DeepFake/Fake/FakeFrames/frame57.0.jpg\n",
            "Creating.../gdrive/My Drive/Colab Notebooks/DeepFake/Fake/FakeFrames/frame58.0.jpg\n",
            "Creating.../gdrive/My Drive/Colab Notebooks/DeepFake/Fake/FakeFrames/frame59.0.jpg\n",
            "Creating.../gdrive/My Drive/Colab Notebooks/DeepFake/Fake/FakeFrames/frame60.0.jpg\n",
            "Creating.../gdrive/My Drive/Colab Notebooks/DeepFake/Fake/FakeFrames/frame61.0.jpg\n",
            "Creating.../gdrive/My Drive/Colab Notebooks/DeepFake/Fake/FakeFrames/frame62.0.jpg\n",
            "Creating.../gdrive/My Drive/Colab Notebooks/DeepFake/Fake/FakeFrames/frame63.0.jpg\n",
            "Creating.../gdrive/My Drive/Colab Notebooks/DeepFake/Fake/FakeFrames/frame64.0.jpg\n",
            "Creating.../gdrive/My Drive/Colab Notebooks/DeepFake/Fake/FakeFrames/frame65.0.jpg\n",
            "Creating.../gdrive/My Drive/Colab Notebooks/DeepFake/Fake/FakeFrames/frame66.0.jpg\n",
            "Creating.../gdrive/My Drive/Colab Notebooks/DeepFake/Fake/FakeFrames/frame67.0.jpg\n",
            "Creating.../gdrive/My Drive/Colab Notebooks/DeepFake/Fake/FakeFrames/frame68.0.jpg\n",
            "Creating.../gdrive/My Drive/Colab Notebooks/DeepFake/Fake/FakeFrames/frame69.0.jpg\n",
            "Creating.../gdrive/My Drive/Colab Notebooks/DeepFake/Fake/FakeFrames/frame70.0.jpg\n",
            "Creating.../gdrive/My Drive/Colab Notebooks/DeepFake/Fake/FakeFrames/frame71.0.jpg\n",
            "Creating.../gdrive/My Drive/Colab Notebooks/DeepFake/Fake/FakeFrames/frame72.0.jpg\n",
            "Creating.../gdrive/My Drive/Colab Notebooks/DeepFake/Fake/FakeFrames/frame73.0.jpg\n",
            "Creating.../gdrive/My Drive/Colab Notebooks/DeepFake/Fake/FakeFrames/frame74.0.jpg\n",
            "Creating.../gdrive/My Drive/Colab Notebooks/DeepFake/Fake/FakeFrames/frame75.0.jpg\n",
            "Creating.../gdrive/My Drive/Colab Notebooks/DeepFake/Fake/FakeFrames/frame76.0.jpg\n",
            "Creating.../gdrive/My Drive/Colab Notebooks/DeepFake/Fake/FakeFrames/frame77.0.jpg\n",
            "Creating.../gdrive/My Drive/Colab Notebooks/DeepFake/Fake/FakeFrames/frame78.0.jpg\n",
            "Creating.../gdrive/My Drive/Colab Notebooks/DeepFake/Fake/FakeFrames/frame79.0.jpg\n",
            "Creating.../gdrive/My Drive/Colab Notebooks/DeepFake/Fake/FakeFrames/frame80.0.jpg\n",
            "Creating.../gdrive/My Drive/Colab Notebooks/DeepFake/Fake/FakeFrames/frame81.0.jpg\n",
            "Creating.../gdrive/My Drive/Colab Notebooks/DeepFake/Fake/FakeFrames/frame82.0.jpg\n",
            "Creating.../gdrive/My Drive/Colab Notebooks/DeepFake/Fake/FakeFrames/frame83.0.jpg\n",
            "Creating.../gdrive/My Drive/Colab Notebooks/DeepFake/Fake/FakeFrames/frame84.0.jpg\n",
            "Creating.../gdrive/My Drive/Colab Notebooks/DeepFake/Fake/FakeFrames/frame85.0.jpg\n",
            "Creating.../gdrive/My Drive/Colab Notebooks/DeepFake/Fake/FakeFrames/frame86.0.jpg\n",
            "Creating.../gdrive/My Drive/Colab Notebooks/DeepFake/Fake/FakeFrames/frame87.0.jpg\n",
            "Creating.../gdrive/My Drive/Colab Notebooks/DeepFake/Fake/FakeFrames/frame88.0.jpg\n",
            "Creating.../gdrive/My Drive/Colab Notebooks/DeepFake/Fake/FakeFrames/frame89.0.jpg\n",
            "Creating.../gdrive/My Drive/Colab Notebooks/DeepFake/Fake/FakeFrames/frame90.0.jpg\n",
            "Creating.../gdrive/My Drive/Colab Notebooks/DeepFake/Fake/FakeFrames/frame91.0.jpg\n",
            "Creating.../gdrive/My Drive/Colab Notebooks/DeepFake/Fake/FakeFrames/frame92.0.jpg\n",
            "Creating.../gdrive/My Drive/Colab Notebooks/DeepFake/Fake/FakeFrames/frame93.0.jpg\n",
            "Creating.../gdrive/My Drive/Colab Notebooks/DeepFake/Fake/FakeFrames/frame94.0.jpg\n",
            "Creating.../gdrive/My Drive/Colab Notebooks/DeepFake/Fake/FakeFrames/frame95.0.jpg\n",
            "Creating.../gdrive/My Drive/Colab Notebooks/DeepFake/Fake/FakeFrames/frame96.0.jpg\n",
            "Creating.../gdrive/My Drive/Colab Notebooks/DeepFake/Fake/FakeFrames/frame97.0.jpg\n",
            "Creating.../gdrive/My Drive/Colab Notebooks/DeepFake/Fake/FakeFrames/frame98.0.jpg\n",
            "Creating.../gdrive/My Drive/Colab Notebooks/DeepFake/Fake/FakeFrames/frame99.0.jpg\n",
            "Creating.../gdrive/My Drive/Colab Notebooks/DeepFake/Fake/FakeFrames/frame100.0.jpg\n",
            "Creating.../gdrive/My Drive/Colab Notebooks/DeepFake/Fake/FakeFrames/frame101.0.jpg\n",
            "Creating.../gdrive/My Drive/Colab Notebooks/DeepFake/Fake/FakeFrames/frame102.0.jpg\n",
            "Creating.../gdrive/My Drive/Colab Notebooks/DeepFake/Fake/FakeFrames/frame103.0.jpg\n",
            "Creating.../gdrive/My Drive/Colab Notebooks/DeepFake/Fake/FakeFrames/frame104.0.jpg\n",
            "Creating.../gdrive/My Drive/Colab Notebooks/DeepFake/Fake/FakeFrames/frame105.0.jpg\n",
            "Creating.../gdrive/My Drive/Colab Notebooks/DeepFake/Fake/FakeFrames/frame106.0.jpg\n",
            "Creating.../gdrive/My Drive/Colab Notebooks/DeepFake/Fake/FakeFrames/frame107.0.jpg\n",
            "Creating.../gdrive/My Drive/Colab Notebooks/DeepFake/Fake/FakeFrames/frame108.0.jpg\n",
            "Creating.../gdrive/My Drive/Colab Notebooks/DeepFake/Fake/FakeFrames/frame109.0.jpg\n",
            "Creating.../gdrive/My Drive/Colab Notebooks/DeepFake/Fake/FakeFrames/frame110.0.jpg\n",
            "Creating.../gdrive/My Drive/Colab Notebooks/DeepFake/Fake/FakeFrames/frame111.0.jpg\n",
            "Creating.../gdrive/My Drive/Colab Notebooks/DeepFake/Fake/FakeFrames/frame112.0.jpg\n",
            "Creating.../gdrive/My Drive/Colab Notebooks/DeepFake/Fake/FakeFrames/frame113.0.jpg\n",
            "Creating.../gdrive/My Drive/Colab Notebooks/DeepFake/Fake/FakeFrames/frame114.0.jpg\n",
            "Creating.../gdrive/My Drive/Colab Notebooks/DeepFake/Fake/FakeFrames/frame115.0.jpg\n",
            "Creating.../gdrive/My Drive/Colab Notebooks/DeepFake/Fake/FakeFrames/frame116.0.jpg\n",
            "Creating.../gdrive/My Drive/Colab Notebooks/DeepFake/Fake/FakeFrames/frame117.0.jpg\n",
            "Creating.../gdrive/My Drive/Colab Notebooks/DeepFake/Fake/FakeFrames/frame118.0.jpg\n",
            "Creating.../gdrive/My Drive/Colab Notebooks/DeepFake/Fake/FakeFrames/frame119.0.jpg\n",
            "Creating.../gdrive/My Drive/Colab Notebooks/DeepFake/Fake/FakeFrames/frame120.0.jpg\n",
            "Creating.../gdrive/My Drive/Colab Notebooks/DeepFake/Fake/FakeFrames/frame121.0.jpg\n",
            "Creating.../gdrive/My Drive/Colab Notebooks/DeepFake/Fake/FakeFrames/frame122.0.jpg\n",
            "Creating.../gdrive/My Drive/Colab Notebooks/DeepFake/Fake/FakeFrames/frame123.0.jpg\n",
            "Creating.../gdrive/My Drive/Colab Notebooks/DeepFake/Fake/FakeFrames/frame124.0.jpg\n",
            "Creating.../gdrive/My Drive/Colab Notebooks/DeepFake/Fake/FakeFrames/frame125.0.jpg\n",
            "Creating.../gdrive/My Drive/Colab Notebooks/DeepFake/Fake/FakeFrames/frame126.0.jpg\n",
            "Creating.../gdrive/My Drive/Colab Notebooks/DeepFake/Fake/FakeFrames/frame127.0.jpg\n",
            "Creating.../gdrive/My Drive/Colab Notebooks/DeepFake/Fake/FakeFrames/frame128.0.jpg\n",
            "Creating.../gdrive/My Drive/Colab Notebooks/DeepFake/Fake/FakeFrames/frame129.0.jpg\n",
            "Creating.../gdrive/My Drive/Colab Notebooks/DeepFake/Fake/FakeFrames/frame130.0.jpg\n",
            "Creating.../gdrive/My Drive/Colab Notebooks/DeepFake/Fake/FakeFrames/frame131.0.jpg\n",
            "Creating.../gdrive/My Drive/Colab Notebooks/DeepFake/Fake/FakeFrames/frame132.0.jpg\n",
            "Creating.../gdrive/My Drive/Colab Notebooks/DeepFake/Fake/FakeFrames/frame133.0.jpg\n",
            "Creating.../gdrive/My Drive/Colab Notebooks/DeepFake/Fake/FakeFrames/frame134.0.jpg\n",
            "Creating.../gdrive/My Drive/Colab Notebooks/DeepFake/Fake/FakeFrames/frame135.0.jpg\n",
            "Creating.../gdrive/My Drive/Colab Notebooks/DeepFake/Fake/FakeFrames/frame136.0.jpg\n",
            "Creating.../gdrive/My Drive/Colab Notebooks/DeepFake/Fake/FakeFrames/frame137.0.jpg\n",
            "Creating.../gdrive/My Drive/Colab Notebooks/DeepFake/Fake/FakeFrames/frame138.0.jpg\n",
            "Creating.../gdrive/My Drive/Colab Notebooks/DeepFake/Fake/FakeFrames/frame139.0.jpg\n",
            "Creating.../gdrive/My Drive/Colab Notebooks/DeepFake/Fake/FakeFrames/frame140.0.jpg\n",
            "Creating.../gdrive/My Drive/Colab Notebooks/DeepFake/Fake/FakeFrames/frame141.0.jpg\n",
            "Creating.../gdrive/My Drive/Colab Notebooks/DeepFake/Fake/FakeFrames/frame142.0.jpg\n",
            "Creating.../gdrive/My Drive/Colab Notebooks/DeepFake/Fake/FakeFrames/frame143.0.jpg\n",
            "Creating.../gdrive/My Drive/Colab Notebooks/DeepFake/Fake/FakeFrames/frame144.0.jpg\n",
            "Creating.../gdrive/My Drive/Colab Notebooks/DeepFake/Fake/FakeFrames/frame145.0.jpg\n",
            "Creating.../gdrive/My Drive/Colab Notebooks/DeepFake/Fake/FakeFrames/frame146.0.jpg\n",
            "Creating.../gdrive/My Drive/Colab Notebooks/DeepFake/Fake/FakeFrames/frame147.0.jpg\n",
            "Creating.../gdrive/My Drive/Colab Notebooks/DeepFake/Fake/FakeFrames/frame148.0.jpg\n",
            "Creating.../gdrive/My Drive/Colab Notebooks/DeepFake/Fake/FakeFrames/frame149.0.jpg\n",
            "Creating.../gdrive/My Drive/Colab Notebooks/DeepFake/Fake/FakeFrames/frame150.0.jpg\n",
            "Creating.../gdrive/My Drive/Colab Notebooks/DeepFake/Fake/FakeFrames/frame151.0.jpg\n",
            "Creating.../gdrive/My Drive/Colab Notebooks/DeepFake/Fake/FakeFrames/frame152.0.jpg\n",
            "Creating.../gdrive/My Drive/Colab Notebooks/DeepFake/Fake/FakeFrames/frame153.0.jpg\n",
            "Creating.../gdrive/My Drive/Colab Notebooks/DeepFake/Fake/FakeFrames/frame154.0.jpg\n",
            "Creating.../gdrive/My Drive/Colab Notebooks/DeepFake/Fake/FakeFrames/frame155.0.jpg\n",
            "Creating.../gdrive/My Drive/Colab Notebooks/DeepFake/Fake/FakeFrames/frame156.0.jpg\n",
            "Creating.../gdrive/My Drive/Colab Notebooks/DeepFake/Fake/FakeFrames/frame157.0.jpg\n",
            "Creating.../gdrive/My Drive/Colab Notebooks/DeepFake/Fake/FakeFrames/frame158.0.jpg\n",
            "Creating.../gdrive/My Drive/Colab Notebooks/DeepFake/Fake/FakeFrames/frame159.0.jpg\n",
            "Creating.../gdrive/My Drive/Colab Notebooks/DeepFake/Fake/FakeFrames/frame160.0.jpg\n",
            "Creating.../gdrive/My Drive/Colab Notebooks/DeepFake/Fake/FakeFrames/frame161.0.jpg\n",
            "Creating.../gdrive/My Drive/Colab Notebooks/DeepFake/Fake/FakeFrames/frame162.0.jpg\n",
            "Creating.../gdrive/My Drive/Colab Notebooks/DeepFake/Fake/FakeFrames/frame163.0.jpg\n",
            "Creating.../gdrive/My Drive/Colab Notebooks/DeepFake/Fake/FakeFrames/frame164.0.jpg\n",
            "Creating.../gdrive/My Drive/Colab Notebooks/DeepFake/Fake/FakeFrames/frame165.0.jpg\n",
            "Creating.../gdrive/My Drive/Colab Notebooks/DeepFake/Fake/FakeFrames/frame166.0.jpg\n",
            "Creating.../gdrive/My Drive/Colab Notebooks/DeepFake/Fake/FakeFrames/frame167.0.jpg\n",
            "Creating.../gdrive/My Drive/Colab Notebooks/DeepFake/Fake/FakeFrames/frame168.0.jpg\n",
            "Creating.../gdrive/My Drive/Colab Notebooks/DeepFake/Fake/FakeFrames/frame169.0.jpg\n",
            "Creating.../gdrive/My Drive/Colab Notebooks/DeepFake/Fake/FakeFrames/frame170.0.jpg\n",
            "Creating.../gdrive/My Drive/Colab Notebooks/DeepFake/Fake/FakeFrames/frame171.0.jpg\n",
            "Creating.../gdrive/My Drive/Colab Notebooks/DeepFake/Fake/FakeFrames/frame172.0.jpg\n",
            "Creating.../gdrive/My Drive/Colab Notebooks/DeepFake/Fake/FakeFrames/frame173.0.jpg\n",
            "Creating.../gdrive/My Drive/Colab Notebooks/DeepFake/Fake/FakeFrames/frame174.0.jpg\n",
            "Creating.../gdrive/My Drive/Colab Notebooks/DeepFake/Fake/FakeFrames/frame175.0.jpg\n",
            "Creating.../gdrive/My Drive/Colab Notebooks/DeepFake/Fake/FakeFrames/frame176.0.jpg\n",
            "Creating.../gdrive/My Drive/Colab Notebooks/DeepFake/Fake/FakeFrames/frame177.0.jpg\n",
            "Creating.../gdrive/My Drive/Colab Notebooks/DeepFake/Fake/FakeFrames/frame178.0.jpg\n",
            "Creating.../gdrive/My Drive/Colab Notebooks/DeepFake/Fake/FakeFrames/frame179.0.jpg\n",
            "Creating.../gdrive/My Drive/Colab Notebooks/DeepFake/Fake/FakeFrames/frame180.0.jpg\n",
            "Creating.../gdrive/My Drive/Colab Notebooks/DeepFake/Fake/FakeFrames/frame181.0.jpg\n",
            "Creating.../gdrive/My Drive/Colab Notebooks/DeepFake/Fake/FakeFrames/frame182.0.jpg\n",
            "Creating.../gdrive/My Drive/Colab Notebooks/DeepFake/Fake/FakeFrames/frame183.0.jpg\n",
            "Creating.../gdrive/My Drive/Colab Notebooks/DeepFake/Fake/FakeFrames/frame184.0.jpg\n",
            "Creating.../gdrive/My Drive/Colab Notebooks/DeepFake/Fake/FakeFrames/frame185.0.jpg\n",
            "Creating.../gdrive/My Drive/Colab Notebooks/DeepFake/Fake/FakeFrames/frame186.0.jpg\n",
            "Creating.../gdrive/My Drive/Colab Notebooks/DeepFake/Fake/FakeFrames/frame187.0.jpg\n",
            "Creating.../gdrive/My Drive/Colab Notebooks/DeepFake/Fake/FakeFrames/frame188.0.jpg\n",
            "Creating.../gdrive/My Drive/Colab Notebooks/DeepFake/Fake/FakeFrames/frame189.0.jpg\n",
            "Creating.../gdrive/My Drive/Colab Notebooks/DeepFake/Fake/FakeFrames/frame190.0.jpg\n",
            "Creating.../gdrive/My Drive/Colab Notebooks/DeepFake/Fake/FakeFrames/frame191.0.jpg\n",
            "Creating.../gdrive/My Drive/Colab Notebooks/DeepFake/Fake/FakeFrames/frame192.0.jpg\n",
            "Creating.../gdrive/My Drive/Colab Notebooks/DeepFake/Fake/FakeFrames/frame193.0.jpg\n",
            "Creating.../gdrive/My Drive/Colab Notebooks/DeepFake/Fake/FakeFrames/frame194.0.jpg\n",
            "Creating.../gdrive/My Drive/Colab Notebooks/DeepFake/Fake/FakeFrames/frame195.0.jpg\n",
            "Creating.../gdrive/My Drive/Colab Notebooks/DeepFake/Fake/FakeFrames/frame196.0.jpg\n",
            "Creating.../gdrive/My Drive/Colab Notebooks/DeepFake/Fake/FakeFrames/frame197.0.jpg\n",
            "Creating.../gdrive/My Drive/Colab Notebooks/DeepFake/Fake/FakeFrames/frame198.0.jpg\n",
            "Creating.../gdrive/My Drive/Colab Notebooks/DeepFake/Fake/FakeFrames/frame199.0.jpg\n",
            "Creating.../gdrive/My Drive/Colab Notebooks/DeepFake/Fake/FakeFrames/frame200.0.jpg\n",
            "Creating.../gdrive/My Drive/Colab Notebooks/DeepFake/Fake/FakeFrames/frame201.0.jpg\n",
            "Creating.../gdrive/My Drive/Colab Notebooks/DeepFake/Fake/FakeFrames/frame202.0.jpg\n",
            "Creating.../gdrive/My Drive/Colab Notebooks/DeepFake/Fake/FakeFrames/frame203.0.jpg\n",
            "Creating.../gdrive/My Drive/Colab Notebooks/DeepFake/Fake/FakeFrames/frame204.0.jpg\n",
            "Creating.../gdrive/My Drive/Colab Notebooks/DeepFake/Fake/FakeFrames/frame205.0.jpg\n",
            "Creating.../gdrive/My Drive/Colab Notebooks/DeepFake/Fake/FakeFrames/frame206.0.jpg\n",
            "Creating.../gdrive/My Drive/Colab Notebooks/DeepFake/Fake/FakeFrames/frame207.0.jpg\n",
            "Creating.../gdrive/My Drive/Colab Notebooks/DeepFake/Fake/FakeFrames/frame208.0.jpg\n",
            "Creating.../gdrive/My Drive/Colab Notebooks/DeepFake/Fake/FakeFrames/frame209.0.jpg\n",
            "Creating.../gdrive/My Drive/Colab Notebooks/DeepFake/Fake/FakeFrames/frame210.0.jpg\n",
            "Creating.../gdrive/My Drive/Colab Notebooks/DeepFake/Fake/FakeFrames/frame211.0.jpg\n",
            "Creating.../gdrive/My Drive/Colab Notebooks/DeepFake/Fake/FakeFrames/frame212.0.jpg\n",
            "Creating.../gdrive/My Drive/Colab Notebooks/DeepFake/Fake/FakeFrames/frame213.0.jpg\n",
            "Creating.../gdrive/My Drive/Colab Notebooks/DeepFake/Fake/FakeFrames/frame214.0.jpg\n",
            "Creating.../gdrive/My Drive/Colab Notebooks/DeepFake/Fake/FakeFrames/frame215.0.jpg\n",
            "Creating.../gdrive/My Drive/Colab Notebooks/DeepFake/Fake/FakeFrames/frame216.0.jpg\n",
            "Creating.../gdrive/My Drive/Colab Notebooks/DeepFake/Fake/FakeFrames/frame217.0.jpg\n",
            "Creating.../gdrive/My Drive/Colab Notebooks/DeepFake/Fake/FakeFrames/frame218.0.jpg\n",
            "Creating.../gdrive/My Drive/Colab Notebooks/DeepFake/Fake/FakeFrames/frame219.0.jpg\n",
            "Creating.../gdrive/My Drive/Colab Notebooks/DeepFake/Fake/FakeFrames/frame220.0.jpg\n",
            "Creating.../gdrive/My Drive/Colab Notebooks/DeepFake/Fake/FakeFrames/frame221.0.jpg\n",
            "Creating.../gdrive/My Drive/Colab Notebooks/DeepFake/Fake/FakeFrames/frame222.0.jpg\n",
            "Creating.../gdrive/My Drive/Colab Notebooks/DeepFake/Fake/FakeFrames/frame223.0.jpg\n",
            "Creating.../gdrive/My Drive/Colab Notebooks/DeepFake/Fake/FakeFrames/frame224.0.jpg\n",
            "Creating.../gdrive/My Drive/Colab Notebooks/DeepFake/Fake/FakeFrames/frame225.0.jpg\n",
            "Creating.../gdrive/My Drive/Colab Notebooks/DeepFake/Fake/FakeFrames/frame226.0.jpg\n",
            "Creating.../gdrive/My Drive/Colab Notebooks/DeepFake/Fake/FakeFrames/frame227.0.jpg\n",
            "Creating.../gdrive/My Drive/Colab Notebooks/DeepFake/Fake/FakeFrames/frame228.0.jpg\n",
            "Creating.../gdrive/My Drive/Colab Notebooks/DeepFake/Fake/FakeFrames/frame229.0.jpg\n",
            "Creating.../gdrive/My Drive/Colab Notebooks/DeepFake/Fake/FakeFrames/frame230.0.jpg\n",
            "Creating.../gdrive/My Drive/Colab Notebooks/DeepFake/Fake/FakeFrames/frame231.0.jpg\n",
            "Creating.../gdrive/My Drive/Colab Notebooks/DeepFake/Fake/FakeFrames/frame232.0.jpg\n",
            "Creating.../gdrive/My Drive/Colab Notebooks/DeepFake/Fake/FakeFrames/frame233.0.jpg\n",
            "Creating.../gdrive/My Drive/Colab Notebooks/DeepFake/Fake/FakeFrames/frame234.0.jpg\n",
            "Creating.../gdrive/My Drive/Colab Notebooks/DeepFake/Fake/FakeFrames/frame235.0.jpg\n",
            "Creating.../gdrive/My Drive/Colab Notebooks/DeepFake/Fake/FakeFrames/frame236.0.jpg\n",
            "Creating.../gdrive/My Drive/Colab Notebooks/DeepFake/Fake/FakeFrames/frame237.0.jpg\n",
            "Creating.../gdrive/My Drive/Colab Notebooks/DeepFake/Fake/FakeFrames/frame238.0.jpg\n",
            "Creating.../gdrive/My Drive/Colab Notebooks/DeepFake/Fake/FakeFrames/frame239.0.jpg\n",
            "Creating.../gdrive/My Drive/Colab Notebooks/DeepFake/Fake/FakeFrames/frame240.0.jpg\n",
            "Creating.../gdrive/My Drive/Colab Notebooks/DeepFake/Fake/FakeFrames/frame241.0.jpg\n",
            "Creating.../gdrive/My Drive/Colab Notebooks/DeepFake/Fake/FakeFrames/frame242.0.jpg\n",
            "Creating.../gdrive/My Drive/Colab Notebooks/DeepFake/Fake/FakeFrames/frame243.0.jpg\n",
            "Creating.../gdrive/My Drive/Colab Notebooks/DeepFake/Fake/FakeFrames/frame244.0.jpg\n",
            "Creating.../gdrive/My Drive/Colab Notebooks/DeepFake/Fake/FakeFrames/frame245.0.jpg\n",
            "Creating.../gdrive/My Drive/Colab Notebooks/DeepFake/Fake/FakeFrames/frame246.0.jpg\n",
            "Creating.../gdrive/My Drive/Colab Notebooks/DeepFake/Fake/FakeFrames/frame247.0.jpg\n",
            "Creating.../gdrive/My Drive/Colab Notebooks/DeepFake/Fake/FakeFrames/frame248.0.jpg\n",
            "Creating.../gdrive/My Drive/Colab Notebooks/DeepFake/Fake/FakeFrames/frame249.0.jpg\n",
            "Creating.../gdrive/My Drive/Colab Notebooks/DeepFake/Fake/FakeFrames/frame250.0.jpg\n",
            "Creating.../gdrive/My Drive/Colab Notebooks/DeepFake/Fake/FakeFrames/frame251.0.jpg\n",
            "Creating.../gdrive/My Drive/Colab Notebooks/DeepFake/Fake/FakeFrames/frame252.0.jpg\n",
            "Creating.../gdrive/My Drive/Colab Notebooks/DeepFake/Fake/FakeFrames/frame253.0.jpg\n",
            "Creating.../gdrive/My Drive/Colab Notebooks/DeepFake/Fake/FakeFrames/frame254.0.jpg\n",
            "Creating.../gdrive/My Drive/Colab Notebooks/DeepFake/Fake/FakeFrames/frame255.0.jpg\n",
            "Creating.../gdrive/My Drive/Colab Notebooks/DeepFake/Fake/FakeFrames/frame256.0.jpg\n",
            "Creating.../gdrive/My Drive/Colab Notebooks/DeepFake/Fake/FakeFrames/frame257.0.jpg\n",
            "Creating.../gdrive/My Drive/Colab Notebooks/DeepFake/Fake/FakeFrames/frame258.0.jpg\n",
            "Creating.../gdrive/My Drive/Colab Notebooks/DeepFake/Fake/FakeFrames/frame259.0.jpg\n",
            "Creating.../gdrive/My Drive/Colab Notebooks/DeepFake/Fake/FakeFrames/frame260.0.jpg\n",
            "Creating.../gdrive/My Drive/Colab Notebooks/DeepFake/Fake/FakeFrames/frame261.0.jpg\n",
            "Creating.../gdrive/My Drive/Colab Notebooks/DeepFake/Fake/FakeFrames/frame262.0.jpg\n",
            "Creating.../gdrive/My Drive/Colab Notebooks/DeepFake/Fake/FakeFrames/frame263.0.jpg\n",
            "Creating.../gdrive/My Drive/Colab Notebooks/DeepFake/Fake/FakeFrames/frame264.0.jpg\n",
            "Creating.../gdrive/My Drive/Colab Notebooks/DeepFake/Fake/FakeFrames/frame265.0.jpg\n",
            "Creating.../gdrive/My Drive/Colab Notebooks/DeepFake/Fake/FakeFrames/frame266.0.jpg\n",
            "Creating.../gdrive/My Drive/Colab Notebooks/DeepFake/Fake/FakeFrames/frame267.0.jpg\n",
            "Creating.../gdrive/My Drive/Colab Notebooks/DeepFake/Fake/FakeFrames/frame268.0.jpg\n",
            "Creating.../gdrive/My Drive/Colab Notebooks/DeepFake/Fake/FakeFrames/frame269.0.jpg\n",
            "Creating.../gdrive/My Drive/Colab Notebooks/DeepFake/Fake/FakeFrames/frame270.0.jpg\n",
            "Creating.../gdrive/My Drive/Colab Notebooks/DeepFake/Fake/FakeFrames/frame271.0.jpg\n",
            "Creating.../gdrive/My Drive/Colab Notebooks/DeepFake/Fake/FakeFrames/frame272.0.jpg\n",
            "Creating.../gdrive/My Drive/Colab Notebooks/DeepFake/Fake/FakeFrames/frame273.0.jpg\n",
            "Creating.../gdrive/My Drive/Colab Notebooks/DeepFake/Fake/FakeFrames/frame274.0.jpg\n",
            "Creating.../gdrive/My Drive/Colab Notebooks/DeepFake/Fake/FakeFrames/frame275.0.jpg\n",
            "Creating.../gdrive/My Drive/Colab Notebooks/DeepFake/Fake/FakeFrames/frame276.0.jpg\n",
            "Creating.../gdrive/My Drive/Colab Notebooks/DeepFake/Fake/FakeFrames/frame277.0.jpg\n",
            "Creating.../gdrive/My Drive/Colab Notebooks/DeepFake/Fake/FakeFrames/frame278.0.jpg\n",
            "Creating.../gdrive/My Drive/Colab Notebooks/DeepFake/Fake/FakeFrames/frame279.0.jpg\n",
            "Creating.../gdrive/My Drive/Colab Notebooks/DeepFake/Fake/FakeFrames/frame280.0.jpg\n",
            "Creating.../gdrive/My Drive/Colab Notebooks/DeepFake/Fake/FakeFrames/frame281.0.jpg\n",
            "Creating.../gdrive/My Drive/Colab Notebooks/DeepFake/Fake/FakeFrames/frame282.0.jpg\n",
            "Creating.../gdrive/My Drive/Colab Notebooks/DeepFake/Fake/FakeFrames/frame283.0.jpg\n",
            "Creating.../gdrive/My Drive/Colab Notebooks/DeepFake/Fake/FakeFrames/frame284.0.jpg\n",
            "Creating.../gdrive/My Drive/Colab Notebooks/DeepFake/Fake/FakeFrames/frame285.0.jpg\n",
            "Creating.../gdrive/My Drive/Colab Notebooks/DeepFake/Fake/FakeFrames/frame286.0.jpg\n",
            "Creating.../gdrive/My Drive/Colab Notebooks/DeepFake/Fake/FakeFrames/frame287.0.jpg\n",
            "Creating.../gdrive/My Drive/Colab Notebooks/DeepFake/Fake/FakeFrames/frame288.0.jpg\n",
            "Creating.../gdrive/My Drive/Colab Notebooks/DeepFake/Fake/FakeFrames/frame289.0.jpg\n",
            "Creating.../gdrive/My Drive/Colab Notebooks/DeepFake/Fake/FakeFrames/frame290.0.jpg\n",
            "Creating.../gdrive/My Drive/Colab Notebooks/DeepFake/Fake/FakeFrames/frame291.0.jpg\n",
            "Creating.../gdrive/My Drive/Colab Notebooks/DeepFake/Fake/FakeFrames/frame292.0.jpg\n",
            "Creating.../gdrive/My Drive/Colab Notebooks/DeepFake/Fake/FakeFrames/frame293.0.jpg\n",
            "Creating.../gdrive/My Drive/Colab Notebooks/DeepFake/Fake/FakeFrames/frame294.0.jpg\n",
            "Creating.../gdrive/My Drive/Colab Notebooks/DeepFake/Fake/FakeFrames/frame295.0.jpg\n",
            "Creating.../gdrive/My Drive/Colab Notebooks/DeepFake/Fake/FakeFrames/frame296.0.jpg\n",
            "Creating.../gdrive/My Drive/Colab Notebooks/DeepFake/Fake/FakeFrames/frame297.0.jpg\n",
            "Creating.../gdrive/My Drive/Colab Notebooks/DeepFake/Fake/FakeFrames/frame298.0.jpg\n",
            "Creating.../gdrive/My Drive/Colab Notebooks/DeepFake/Fake/FakeFrames/frame299.0.jpg\n",
            "Creating.../gdrive/My Drive/Colab Notebooks/DeepFake/Fake/FakeFrames/frame300.0.jpg\n",
            "\n",
            " *** Frames extracted successfully! *** \n",
            "\n"
          ],
          "name": "stdout"
        }
      ]
    },
    {
      "cell_type": "code",
      "metadata": {
        "id": "VryA4_vaGpOl"
      },
      "source": [
        ""
      ],
      "execution_count": null,
      "outputs": []
    }
  ]
}